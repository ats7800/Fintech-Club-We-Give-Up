{
 "cells": [
  {
   "cell_type": "code",
   "execution_count": 5,
   "id": "0b8407ca",
   "metadata": {},
   "outputs": [],
   "source": [
    "import pandas as pd\n",
    "import numpy as np\n"
   ]
  },
  {
   "cell_type": "code",
   "execution_count": 54,
   "id": "2bc7076f",
   "metadata": {},
   "outputs": [],
   "source": [
    "tweets = pd.read_csv(\"tweets.csv\")\n",
    "tweetI = pd.read_csv(\"tweet-index.csv\")"
   ]
  },
  {
   "cell_type": "code",
   "execution_count": 42,
   "id": "a6bedbab",
   "metadata": {},
   "outputs": [
    {
     "data": {
      "text/html": [
       "<div>\n",
       "<style scoped>\n",
       "    .dataframe tbody tr th:only-of-type {\n",
       "        vertical-align: middle;\n",
       "    }\n",
       "\n",
       "    .dataframe tbody tr th {\n",
       "        vertical-align: top;\n",
       "    }\n",
       "\n",
       "    .dataframe thead th {\n",
       "        text-align: right;\n",
       "    }\n",
       "</style>\n",
       "<table border=\"1\" class=\"dataframe\">\n",
       "  <thead>\n",
       "    <tr style=\"text-align: right;\">\n",
       "      <th></th>\n",
       "      <th>tweet_id</th>\n",
       "      <th>writer</th>\n",
       "      <th>post_date</th>\n",
       "      <th>body</th>\n",
       "      <th>comment_num</th>\n",
       "      <th>retweet_num</th>\n",
       "      <th>like_num</th>\n",
       "    </tr>\n",
       "  </thead>\n",
       "  <tbody>\n",
       "    <tr>\n",
       "      <th>0</th>\n",
       "      <td>550441509175443456</td>\n",
       "      <td>VisualStockRSRC</td>\n",
       "      <td>1420070457</td>\n",
       "      <td>lx21 made $10,008  on $AAPL -Check it out! htt...</td>\n",
       "      <td>0</td>\n",
       "      <td>0</td>\n",
       "      <td>1</td>\n",
       "    </tr>\n",
       "    <tr>\n",
       "      <th>1</th>\n",
       "      <td>550441672312512512</td>\n",
       "      <td>KeralaGuy77</td>\n",
       "      <td>1420070496</td>\n",
       "      <td>Insanity of today weirdo massive selling. $aap...</td>\n",
       "      <td>0</td>\n",
       "      <td>0</td>\n",
       "      <td>0</td>\n",
       "    </tr>\n",
       "    <tr>\n",
       "      <th>2</th>\n",
       "      <td>550441732014223360</td>\n",
       "      <td>DozenStocks</td>\n",
       "      <td>1420070510</td>\n",
       "      <td>S&amp;P100 #Stocks Performance $HD $LOW $SBUX $TGT...</td>\n",
       "      <td>0</td>\n",
       "      <td>0</td>\n",
       "      <td>0</td>\n",
       "    </tr>\n",
       "    <tr>\n",
       "      <th>3</th>\n",
       "      <td>550442977802207232</td>\n",
       "      <td>ShowDreamCar</td>\n",
       "      <td>1420070807</td>\n",
       "      <td>$GM $TSLA: Volkswagen Pushes 2014 Record Recal...</td>\n",
       "      <td>0</td>\n",
       "      <td>0</td>\n",
       "      <td>1</td>\n",
       "    </tr>\n",
       "    <tr>\n",
       "      <th>4</th>\n",
       "      <td>550443807834402816</td>\n",
       "      <td>i_Know_First</td>\n",
       "      <td>1420071005</td>\n",
       "      <td>Swing Trading: Up To 8.91% Return In 14 Days h...</td>\n",
       "      <td>0</td>\n",
       "      <td>0</td>\n",
       "      <td>1</td>\n",
       "    </tr>\n",
       "  </tbody>\n",
       "</table>\n",
       "</div>"
      ],
      "text/plain": [
       "             tweet_id           writer   post_date   \n",
       "0  550441509175443456  VisualStockRSRC  1420070457  \\\n",
       "1  550441672312512512      KeralaGuy77  1420070496   \n",
       "2  550441732014223360      DozenStocks  1420070510   \n",
       "3  550442977802207232     ShowDreamCar  1420070807   \n",
       "4  550443807834402816     i_Know_First  1420071005   \n",
       "\n",
       "                                                body  comment_num   \n",
       "0  lx21 made $10,008  on $AAPL -Check it out! htt...            0  \\\n",
       "1  Insanity of today weirdo massive selling. $aap...            0   \n",
       "2  S&P100 #Stocks Performance $HD $LOW $SBUX $TGT...            0   \n",
       "3  $GM $TSLA: Volkswagen Pushes 2014 Record Recal...            0   \n",
       "4  Swing Trading: Up To 8.91% Return In 14 Days h...            0   \n",
       "\n",
       "   retweet_num  like_num  \n",
       "0            0         1  \n",
       "1            0         0  \n",
       "2            0         0  \n",
       "3            0         1  \n",
       "4            0         1  "
      ]
     },
     "execution_count": 42,
     "metadata": {},
     "output_type": "execute_result"
    }
   ],
   "source": [
    "tweets.head()"
   ]
  },
  {
   "cell_type": "code",
   "execution_count": 9,
   "id": "b364f8ae",
   "metadata": {},
   "outputs": [],
   "source": [
    "from datetime import datetime"
   ]
  },
  {
   "cell_type": "code",
   "execution_count": 55,
   "id": "c1bd6470",
   "metadata": {},
   "outputs": [],
   "source": [
    "tweets.post_date = tweets.post_date.astype(str)"
   ]
  },
  {
   "cell_type": "code",
   "execution_count": 56,
   "id": "9538deea",
   "metadata": {},
   "outputs": [],
   "source": [
    "i = 0\n",
    "for tweet in tweets.post_date:\n",
    "    tweets.loc[i, 'post_date'] = datetime.utcfromtimestamp(int(tweets.loc[i, 'post_date'])).strftime('%Y-%m-%d')\n",
    "    i = i+1"
   ]
  },
  {
   "cell_type": "code",
   "execution_count": 59,
   "id": "02982e53",
   "metadata": {},
   "outputs": [
    {
     "data": {
      "text/plain": [
       "'2015-01-05'"
      ]
     },
     "execution_count": 59,
     "metadata": {},
     "output_type": "execute_result"
    }
   ],
   "source": [
    "tweets.post_date[5000]"
   ]
  },
  {
   "cell_type": "code",
   "execution_count": 60,
   "id": "09210598",
   "metadata": {},
   "outputs": [
    {
     "data": {
      "text/html": [
       "<div>\n",
       "<style scoped>\n",
       "    .dataframe tbody tr th:only-of-type {\n",
       "        vertical-align: middle;\n",
       "    }\n",
       "\n",
       "    .dataframe tbody tr th {\n",
       "        vertical-align: top;\n",
       "    }\n",
       "\n",
       "    .dataframe thead th {\n",
       "        text-align: right;\n",
       "    }\n",
       "</style>\n",
       "<table border=\"1\" class=\"dataframe\">\n",
       "  <thead>\n",
       "    <tr style=\"text-align: right;\">\n",
       "      <th></th>\n",
       "      <th>tweet_id</th>\n",
       "      <th>ticker_symbol</th>\n",
       "    </tr>\n",
       "  </thead>\n",
       "  <tbody>\n",
       "    <tr>\n",
       "      <th>0</th>\n",
       "      <td>550803612197457920</td>\n",
       "      <td>AAPL</td>\n",
       "    </tr>\n",
       "    <tr>\n",
       "      <th>1</th>\n",
       "      <td>550803610825928706</td>\n",
       "      <td>AAPL</td>\n",
       "    </tr>\n",
       "    <tr>\n",
       "      <th>2</th>\n",
       "      <td>550803225113157632</td>\n",
       "      <td>AAPL</td>\n",
       "    </tr>\n",
       "    <tr>\n",
       "      <th>3</th>\n",
       "      <td>550802957370159104</td>\n",
       "      <td>AAPL</td>\n",
       "    </tr>\n",
       "    <tr>\n",
       "      <th>4</th>\n",
       "      <td>550802855129382912</td>\n",
       "      <td>AAPL</td>\n",
       "    </tr>\n",
       "  </tbody>\n",
       "</table>\n",
       "</div>"
      ],
      "text/plain": [
       "             tweet_id ticker_symbol\n",
       "0  550803612197457920          AAPL\n",
       "1  550803610825928706          AAPL\n",
       "2  550803225113157632          AAPL\n",
       "3  550802957370159104          AAPL\n",
       "4  550802855129382912          AAPL"
      ]
     },
     "execution_count": 60,
     "metadata": {},
     "output_type": "execute_result"
    }
   ],
   "source": [
    "tweetI.head()"
   ]
  },
  {
   "cell_type": "code",
   "execution_count": 61,
   "id": "87ca4fe5",
   "metadata": {},
   "outputs": [],
   "source": [
    "merged_df = pd.merge(tweets, tweetI, how='inner', on='tweet_id')\n",
    "\n",
    "# Save the merged DataFrame to a new CSV file\n",
    "merged_df.to_csv('merged_file.csv', index=False)"
   ]
  },
  {
   "cell_type": "code",
   "execution_count": 65,
   "id": "72f5c7e2",
   "metadata": {},
   "outputs": [
    {
     "data": {
      "text/html": [
       "<div>\n",
       "<style scoped>\n",
       "    .dataframe tbody tr th:only-of-type {\n",
       "        vertical-align: middle;\n",
       "    }\n",
       "\n",
       "    .dataframe tbody tr th {\n",
       "        vertical-align: top;\n",
       "    }\n",
       "\n",
       "    .dataframe thead th {\n",
       "        text-align: right;\n",
       "    }\n",
       "</style>\n",
       "<table border=\"1\" class=\"dataframe\">\n",
       "  <thead>\n",
       "    <tr style=\"text-align: right;\">\n",
       "      <th></th>\n",
       "      <th>tweet_id</th>\n",
       "      <th>writer</th>\n",
       "      <th>post_date</th>\n",
       "      <th>body</th>\n",
       "      <th>comment_num</th>\n",
       "      <th>retweet_num</th>\n",
       "      <th>like_num</th>\n",
       "      <th>ticker_symbol</th>\n",
       "    </tr>\n",
       "  </thead>\n",
       "  <tbody>\n",
       "    <tr>\n",
       "      <th>0</th>\n",
       "      <td>550441509175443456</td>\n",
       "      <td>VisualStockRSRC</td>\n",
       "      <td>2015-01-01</td>\n",
       "      <td>lx21 made $10,008  on $AAPL -Check it out! htt...</td>\n",
       "      <td>0</td>\n",
       "      <td>0</td>\n",
       "      <td>1</td>\n",
       "      <td>AAPL</td>\n",
       "    </tr>\n",
       "    <tr>\n",
       "      <th>1</th>\n",
       "      <td>550441672312512512</td>\n",
       "      <td>KeralaGuy77</td>\n",
       "      <td>2015-01-01</td>\n",
       "      <td>Insanity of today weirdo massive selling. $aap...</td>\n",
       "      <td>0</td>\n",
       "      <td>0</td>\n",
       "      <td>0</td>\n",
       "      <td>AAPL</td>\n",
       "    </tr>\n",
       "    <tr>\n",
       "      <th>2</th>\n",
       "      <td>550441732014223360</td>\n",
       "      <td>DozenStocks</td>\n",
       "      <td>2015-01-01</td>\n",
       "      <td>S&amp;P100 #Stocks Performance $HD $LOW $SBUX $TGT...</td>\n",
       "      <td>0</td>\n",
       "      <td>0</td>\n",
       "      <td>0</td>\n",
       "      <td>AMZN</td>\n",
       "    </tr>\n",
       "    <tr>\n",
       "      <th>3</th>\n",
       "      <td>550442977802207232</td>\n",
       "      <td>ShowDreamCar</td>\n",
       "      <td>2015-01-01</td>\n",
       "      <td>$GM $TSLA: Volkswagen Pushes 2014 Record Recal...</td>\n",
       "      <td>0</td>\n",
       "      <td>0</td>\n",
       "      <td>1</td>\n",
       "      <td>TSLA</td>\n",
       "    </tr>\n",
       "    <tr>\n",
       "      <th>4</th>\n",
       "      <td>550443807834402816</td>\n",
       "      <td>i_Know_First</td>\n",
       "      <td>2015-01-01</td>\n",
       "      <td>Swing Trading: Up To 8.91% Return In 14 Days h...</td>\n",
       "      <td>0</td>\n",
       "      <td>0</td>\n",
       "      <td>1</td>\n",
       "      <td>AAPL</td>\n",
       "    </tr>\n",
       "  </tbody>\n",
       "</table>\n",
       "</div>"
      ],
      "text/plain": [
       "             tweet_id           writer   post_date   \n",
       "0  550441509175443456  VisualStockRSRC  2015-01-01  \\\n",
       "1  550441672312512512      KeralaGuy77  2015-01-01   \n",
       "2  550441732014223360      DozenStocks  2015-01-01   \n",
       "3  550442977802207232     ShowDreamCar  2015-01-01   \n",
       "4  550443807834402816     i_Know_First  2015-01-01   \n",
       "\n",
       "                                                body  comment_num   \n",
       "0  lx21 made $10,008  on $AAPL -Check it out! htt...            0  \\\n",
       "1  Insanity of today weirdo massive selling. $aap...            0   \n",
       "2  S&P100 #Stocks Performance $HD $LOW $SBUX $TGT...            0   \n",
       "3  $GM $TSLA: Volkswagen Pushes 2014 Record Recal...            0   \n",
       "4  Swing Trading: Up To 8.91% Return In 14 Days h...            0   \n",
       "\n",
       "   retweet_num  like_num ticker_symbol  \n",
       "0            0         1          AAPL  \n",
       "1            0         0          AAPL  \n",
       "2            0         0          AMZN  \n",
       "3            0         1          TSLA  \n",
       "4            0         1          AAPL  "
      ]
     },
     "execution_count": 65,
     "metadata": {},
     "output_type": "execute_result"
    }
   ],
   "source": [
    "merged_df.head()"
   ]
  },
  {
   "cell_type": "code",
   "execution_count": 67,
   "id": "78357a55",
   "metadata": {},
   "outputs": [],
   "source": [
    "same_date_df = merged_df[merged_df['post_date'] == merged_df['post_date'][0]]"
   ]
  },
  {
   "cell_type": "code",
   "execution_count": 70,
   "id": "ec50e8a3",
   "metadata": {},
   "outputs": [
    {
     "data": {
      "text/html": [
       "<div>\n",
       "<style scoped>\n",
       "    .dataframe tbody tr th:only-of-type {\n",
       "        vertical-align: middle;\n",
       "    }\n",
       "\n",
       "    .dataframe tbody tr th {\n",
       "        vertical-align: top;\n",
       "    }\n",
       "\n",
       "    .dataframe thead th {\n",
       "        text-align: right;\n",
       "    }\n",
       "</style>\n",
       "<table border=\"1\" class=\"dataframe\">\n",
       "  <thead>\n",
       "    <tr style=\"text-align: right;\">\n",
       "      <th></th>\n",
       "      <th>tweet_id</th>\n",
       "      <th>writer</th>\n",
       "      <th>post_date</th>\n",
       "      <th>body</th>\n",
       "      <th>comment_num</th>\n",
       "      <th>retweet_num</th>\n",
       "      <th>like_num</th>\n",
       "      <th>ticker_symbol</th>\n",
       "    </tr>\n",
       "  </thead>\n",
       "  <tbody>\n",
       "    <tr>\n",
       "      <th>296</th>\n",
       "      <td>550650451948212224</td>\n",
       "      <td>greatspoke</td>\n",
       "      <td>2015-01-01</td>\n",
       "      <td>Top Stock Analyst Releases Report on Top Stock...</td>\n",
       "      <td>0</td>\n",
       "      <td>431</td>\n",
       "      <td>2</td>\n",
       "      <td>AAPL</td>\n",
       "    </tr>\n",
       "    <tr>\n",
       "      <th>294</th>\n",
       "      <td>550650235404701697</td>\n",
       "      <td>greatspoke</td>\n",
       "      <td>2015-01-01</td>\n",
       "      <td>Analyst Report on Top Stock Market Options for...</td>\n",
       "      <td>0</td>\n",
       "      <td>430</td>\n",
       "      <td>3</td>\n",
       "      <td>AAPL</td>\n",
       "    </tr>\n",
       "    <tr>\n",
       "      <th>295</th>\n",
       "      <td>550650235404701697</td>\n",
       "      <td>greatspoke</td>\n",
       "      <td>2015-01-01</td>\n",
       "      <td>Analyst Report on Top Stock Market Options for...</td>\n",
       "      <td>0</td>\n",
       "      <td>430</td>\n",
       "      <td>3</td>\n",
       "      <td>AMZN</td>\n",
       "    </tr>\n",
       "    <tr>\n",
       "      <th>626</th>\n",
       "      <td>550779709840445441</td>\n",
       "      <td>WSJ</td>\n",
       "      <td>2015-01-01</td>\n",
       "      <td>See how tech companies like Apple, Twitter and...</td>\n",
       "      <td>15</td>\n",
       "      <td>223</td>\n",
       "      <td>109</td>\n",
       "      <td>AAPL</td>\n",
       "    </tr>\n",
       "    <tr>\n",
       "      <th>38</th>\n",
       "      <td>550453624258965505</td>\n",
       "      <td>WSJ</td>\n",
       "      <td>2015-01-01</td>\n",
       "      <td>Jeff Bezos lost $7.4 billion in Amazon's worst...</td>\n",
       "      <td>21</td>\n",
       "      <td>139</td>\n",
       "      <td>57</td>\n",
       "      <td>AMZN</td>\n",
       "    </tr>\n",
       "    <tr>\n",
       "      <th>...</th>\n",
       "      <td>...</td>\n",
       "      <td>...</td>\n",
       "      <td>...</td>\n",
       "      <td>...</td>\n",
       "      <td>...</td>\n",
       "      <td>...</td>\n",
       "      <td>...</td>\n",
       "      <td>...</td>\n",
       "    </tr>\n",
       "    <tr>\n",
       "      <th>239</th>\n",
       "      <td>550601859610591232</td>\n",
       "      <td>BargainTrapper</td>\n",
       "      <td>2015-01-01</td>\n",
       "      <td>http://wp.me/p4f4mU-f7 &lt;-- 2 stocks trading bo...</td>\n",
       "      <td>0</td>\n",
       "      <td>0</td>\n",
       "      <td>0</td>\n",
       "      <td>AAPL</td>\n",
       "    </tr>\n",
       "    <tr>\n",
       "      <th>240</th>\n",
       "      <td>550602053580775424</td>\n",
       "      <td>caroltheva</td>\n",
       "      <td>2015-01-01</td>\n",
       "      <td>Free course on margin usage in Options http://...</td>\n",
       "      <td>0</td>\n",
       "      <td>0</td>\n",
       "      <td>0</td>\n",
       "      <td>TSLA</td>\n",
       "    </tr>\n",
       "    <tr>\n",
       "      <th>241</th>\n",
       "      <td>550602865690288128</td>\n",
       "      <td>Sara20992</td>\n",
       "      <td>2015-01-01</td>\n",
       "      <td>THE BINARY OPTIONS COMPETITION WIN $100,000 ht...</td>\n",
       "      <td>0</td>\n",
       "      <td>0</td>\n",
       "      <td>0</td>\n",
       "      <td>AAPL</td>\n",
       "    </tr>\n",
       "    <tr>\n",
       "      <th>242</th>\n",
       "      <td>550602865690288128</td>\n",
       "      <td>Sara20992</td>\n",
       "      <td>2015-01-01</td>\n",
       "      <td>THE BINARY OPTIONS COMPETITION WIN $100,000 ht...</td>\n",
       "      <td>0</td>\n",
       "      <td>0</td>\n",
       "      <td>0</td>\n",
       "      <td>GOOGL</td>\n",
       "    </tr>\n",
       "    <tr>\n",
       "      <th>687</th>\n",
       "      <td>550803612197457920</td>\n",
       "      <td>SentiQuant</td>\n",
       "      <td>2015-01-01</td>\n",
       "      <td>#TOPTICKERTWEETS $AAPL $IMRS $BABA $EBAY $AMZN...</td>\n",
       "      <td>0</td>\n",
       "      <td>0</td>\n",
       "      <td>1</td>\n",
       "      <td>AMZN</td>\n",
       "    </tr>\n",
       "  </tbody>\n",
       "</table>\n",
       "<p>688 rows × 8 columns</p>\n",
       "</div>"
      ],
      "text/plain": [
       "               tweet_id          writer   post_date   \n",
       "296  550650451948212224      greatspoke  2015-01-01  \\\n",
       "294  550650235404701697      greatspoke  2015-01-01   \n",
       "295  550650235404701697      greatspoke  2015-01-01   \n",
       "626  550779709840445441             WSJ  2015-01-01   \n",
       "38   550453624258965505             WSJ  2015-01-01   \n",
       "..                  ...             ...         ...   \n",
       "239  550601859610591232  BargainTrapper  2015-01-01   \n",
       "240  550602053580775424      caroltheva  2015-01-01   \n",
       "241  550602865690288128       Sara20992  2015-01-01   \n",
       "242  550602865690288128       Sara20992  2015-01-01   \n",
       "687  550803612197457920      SentiQuant  2015-01-01   \n",
       "\n",
       "                                                  body  comment_num   \n",
       "296  Top Stock Analyst Releases Report on Top Stock...            0  \\\n",
       "294  Analyst Report on Top Stock Market Options for...            0   \n",
       "295  Analyst Report on Top Stock Market Options for...            0   \n",
       "626  See how tech companies like Apple, Twitter and...           15   \n",
       "38   Jeff Bezos lost $7.4 billion in Amazon's worst...           21   \n",
       "..                                                 ...          ...   \n",
       "239  http://wp.me/p4f4mU-f7 <-- 2 stocks trading bo...            0   \n",
       "240  Free course on margin usage in Options http://...            0   \n",
       "241  THE BINARY OPTIONS COMPETITION WIN $100,000 ht...            0   \n",
       "242  THE BINARY OPTIONS COMPETITION WIN $100,000 ht...            0   \n",
       "687  #TOPTICKERTWEETS $AAPL $IMRS $BABA $EBAY $AMZN...            0   \n",
       "\n",
       "     retweet_num  like_num ticker_symbol  \n",
       "296          431         2          AAPL  \n",
       "294          430         3          AAPL  \n",
       "295          430         3          AMZN  \n",
       "626          223       109          AAPL  \n",
       "38           139        57          AMZN  \n",
       "..           ...       ...           ...  \n",
       "239            0         0          AAPL  \n",
       "240            0         0          TSLA  \n",
       "241            0         0          AAPL  \n",
       "242            0         0         GOOGL  \n",
       "687            0         1          AMZN  \n",
       "\n",
       "[688 rows x 8 columns]"
      ]
     },
     "execution_count": 70,
     "metadata": {},
     "output_type": "execute_result"
    }
   ],
   "source": [
    "same_date_df.sort_values(by='retweet_num', ascending=False)"
   ]
  },
  {
   "cell_type": "code",
   "execution_count": 3,
   "id": "c441bb9b",
   "metadata": {},
   "outputs": [
    {
     "name": "stdout",
     "output_type": "stream",
     "text": [
      "Collecting transformers\n",
      "  Using cached transformers-4.27.4-py3-none-any.whl (6.8 MB)\n",
      "Requirement already satisfied: huggingface-hub<1.0,>=0.11.0 in /Users/ashutoshsingh/anaconda3/lib/python3.10/site-packages (from transformers) (0.13.4)\n",
      "Requirement already satisfied: regex!=2019.12.17 in /Users/ashutoshsingh/anaconda3/lib/python3.10/site-packages (from transformers) (2022.7.9)\n",
      "Requirement already satisfied: packaging>=20.0 in /Users/ashutoshsingh/anaconda3/lib/python3.10/site-packages (from transformers) (22.0)\n",
      "Requirement already satisfied: tqdm>=4.27 in /Users/ashutoshsingh/anaconda3/lib/python3.10/site-packages (from transformers) (4.64.1)\n",
      "Requirement already satisfied: pyyaml>=5.1 in /Users/ashutoshsingh/anaconda3/lib/python3.10/site-packages (from transformers) (6.0)\n",
      "Requirement already satisfied: tokenizers!=0.11.3,<0.14,>=0.11.1 in /Users/ashutoshsingh/anaconda3/lib/python3.10/site-packages (from transformers) (0.11.4)\n",
      "Requirement already satisfied: requests in /Users/ashutoshsingh/anaconda3/lib/python3.10/site-packages (from transformers) (2.28.1)\n",
      "Requirement already satisfied: numpy>=1.17 in /Users/ashutoshsingh/anaconda3/lib/python3.10/site-packages (from transformers) (1.24.2)\n",
      "Requirement already satisfied: filelock in /Users/ashutoshsingh/anaconda3/lib/python3.10/site-packages (from transformers) (3.9.0)\n",
      "Requirement already satisfied: typing-extensions>=3.7.4.3 in /Users/ashutoshsingh/anaconda3/lib/python3.10/site-packages (from huggingface-hub<1.0,>=0.11.0->transformers) (4.4.0)\n",
      "Requirement already satisfied: idna<4,>=2.5 in /Users/ashutoshsingh/anaconda3/lib/python3.10/site-packages (from requests->transformers) (3.4)\n",
      "Requirement already satisfied: urllib3<1.27,>=1.21.1 in /Users/ashutoshsingh/anaconda3/lib/python3.10/site-packages (from requests->transformers) (1.26.14)\n",
      "Requirement already satisfied: charset-normalizer<3,>=2 in /Users/ashutoshsingh/anaconda3/lib/python3.10/site-packages (from requests->transformers) (2.0.4)\n",
      "Requirement already satisfied: certifi>=2017.4.17 in /Users/ashutoshsingh/anaconda3/lib/python3.10/site-packages (from requests->transformers) (2022.12.7)\n",
      "Installing collected packages: transformers\n",
      "Successfully installed transformers-4.27.4\n"
     ]
    },
    {
     "name": "stderr",
     "output_type": "stream",
     "text": [
      "/Users/ashutoshsingh/anaconda3/lib/python3.10/site-packages/tqdm/auto.py:22: TqdmWarning: IProgress not found. Please update jupyter and ipywidgets. See https://ipywidgets.readthedocs.io/en/stable/user_install.html\n",
      "  from .autonotebook import tqdm as notebook_tqdm\n"
     ]
    }
   ],
   "source": [
    "!pip install transformers\n",
    "from transformers import pipeline"
   ]
  },
  {
   "cell_type": "code",
   "execution_count": 4,
   "id": "591c0508",
   "metadata": {},
   "outputs": [
    {
     "name": "stderr",
     "output_type": "stream",
     "text": [
      "Downloading pytorch_model.bin: 100%|██████████| 669M/669M [01:41<00:00, 6.59MB/s] \n",
      "Downloading (…)okenizer_config.json: 100%|██████████| 39.0/39.0 [00:00<00:00, 11.9kB/s]\n",
      "Downloading (…)solve/main/vocab.txt: 100%|██████████| 872k/872k [00:00<00:00, 2.03MB/s]\n",
      "Downloading (…)cial_tokens_map.json: 100%|██████████| 112/112 [00:00<00:00, 31.8kB/s]\n"
     ]
    },
    {
     "name": "stdout",
     "output_type": "stream",
     "text": [
      "['5 stars'] [0.910667359828949]\n"
     ]
    }
   ],
   "source": [
    "sentiment_pipeline = pipeline(\"sentiment-analysis\", model=\"nlptown/bert-base-multilingual-uncased-sentiment\")\n",
    "\n",
    "# Load your tweet data into a DataFrame\n",
    "# Replace this with your actual data loading code\n",
    "# tweets = pd.read_csv('tweets.csv')\n",
    "goodTweet = \"Tesla is awesome, it is going up and i love it.\"\n",
    "\n",
    "# Extract the tweet text from the DataFrame\n",
    "# tweet_texts = tweets['text'].tolist()\n",
    "tweet_texts = [goodTweet]\n",
    "\n",
    "# Perform sentiment analysis on tweets using the pipeline\n",
    "results = sentiment_pipeline(tweet_texts)\n",
    "\n",
    "# Extract the sentiment labels and scores from the results\n",
    "sentiments = [result['label'] for result in results]\n",
    "scores = [result['score'] for result in results]\n",
    "\n",
    "# Add the sentiment labels and scores to the DataFrame\n",
    "# tweets['sentiment_label'] = sentiments\n",
    "# tweets['sentiment_score'] = scores\n",
    "\n",
    "# Print the DataFrame with sentiment analysis results\n",
    "# print(tweets[['text', 'sentiment_label', 'sentiment_score']])\n",
    "\n",
    "print(sentiments,scores)\n",
    "\n",
    "\n",
    "\n",
    "\n",
    "\n"
   ]
  },
  {
   "cell_type": "code",
   "execution_count": 76,
   "id": "99d15067",
   "metadata": {},
   "outputs": [],
   "source": [
    "# from transformers import BertTokenizer, TFBertModel\n",
    "# tokenizer = BertTokenizer.from_pretrained('bert-base-multilingual-uncased')\n",
    "# model = TFBertModel.from_pretrained(\"bert-base-multilingual-uncased\")\n",
    "# text = \"Tesla is awesome, it is going up and i love it.\"\n",
    "# encoded_input = tokenizer(text, return_tensors='tf')\n",
    "# output = model(encoded_input)\n",
    "# print(output)"
   ]
  },
  {
   "cell_type": "code",
   "execution_count": 6,
   "id": "50e049d0",
   "metadata": {},
   "outputs": [],
   "source": [
    "mergedFile = pd.read_csv(\"merged_file.csv\")"
   ]
  },
  {
   "cell_type": "code",
   "execution_count": 7,
   "id": "739cbb2d",
   "metadata": {},
   "outputs": [
    {
     "data": {
      "text/html": [
       "<div>\n",
       "<style scoped>\n",
       "    .dataframe tbody tr th:only-of-type {\n",
       "        vertical-align: middle;\n",
       "    }\n",
       "\n",
       "    .dataframe tbody tr th {\n",
       "        vertical-align: top;\n",
       "    }\n",
       "\n",
       "    .dataframe thead th {\n",
       "        text-align: right;\n",
       "    }\n",
       "</style>\n",
       "<table border=\"1\" class=\"dataframe\">\n",
       "  <thead>\n",
       "    <tr style=\"text-align: right;\">\n",
       "      <th></th>\n",
       "      <th>tweet_id</th>\n",
       "      <th>writer</th>\n",
       "      <th>post_date</th>\n",
       "      <th>body</th>\n",
       "      <th>comment_num</th>\n",
       "      <th>retweet_num</th>\n",
       "      <th>like_num</th>\n",
       "      <th>ticker_symbol</th>\n",
       "    </tr>\n",
       "  </thead>\n",
       "  <tbody>\n",
       "    <tr>\n",
       "      <th>0</th>\n",
       "      <td>550441509175443456</td>\n",
       "      <td>VisualStockRSRC</td>\n",
       "      <td>2015-01-01</td>\n",
       "      <td>lx21 made $10,008  on $AAPL -Check it out! htt...</td>\n",
       "      <td>0</td>\n",
       "      <td>0</td>\n",
       "      <td>1</td>\n",
       "      <td>AAPL</td>\n",
       "    </tr>\n",
       "    <tr>\n",
       "      <th>1</th>\n",
       "      <td>550441672312512512</td>\n",
       "      <td>KeralaGuy77</td>\n",
       "      <td>2015-01-01</td>\n",
       "      <td>Insanity of today weirdo massive selling. $aap...</td>\n",
       "      <td>0</td>\n",
       "      <td>0</td>\n",
       "      <td>0</td>\n",
       "      <td>AAPL</td>\n",
       "    </tr>\n",
       "    <tr>\n",
       "      <th>2</th>\n",
       "      <td>550441732014223360</td>\n",
       "      <td>DozenStocks</td>\n",
       "      <td>2015-01-01</td>\n",
       "      <td>S&amp;P100 #Stocks Performance $HD $LOW $SBUX $TGT...</td>\n",
       "      <td>0</td>\n",
       "      <td>0</td>\n",
       "      <td>0</td>\n",
       "      <td>AMZN</td>\n",
       "    </tr>\n",
       "    <tr>\n",
       "      <th>3</th>\n",
       "      <td>550442977802207232</td>\n",
       "      <td>ShowDreamCar</td>\n",
       "      <td>2015-01-01</td>\n",
       "      <td>$GM $TSLA: Volkswagen Pushes 2014 Record Recal...</td>\n",
       "      <td>0</td>\n",
       "      <td>0</td>\n",
       "      <td>1</td>\n",
       "      <td>TSLA</td>\n",
       "    </tr>\n",
       "    <tr>\n",
       "      <th>4</th>\n",
       "      <td>550443807834402816</td>\n",
       "      <td>i_Know_First</td>\n",
       "      <td>2015-01-01</td>\n",
       "      <td>Swing Trading: Up To 8.91% Return In 14 Days h...</td>\n",
       "      <td>0</td>\n",
       "      <td>0</td>\n",
       "      <td>1</td>\n",
       "      <td>AAPL</td>\n",
       "    </tr>\n",
       "  </tbody>\n",
       "</table>\n",
       "</div>"
      ],
      "text/plain": [
       "             tweet_id           writer   post_date   \n",
       "0  550441509175443456  VisualStockRSRC  2015-01-01  \\\n",
       "1  550441672312512512      KeralaGuy77  2015-01-01   \n",
       "2  550441732014223360      DozenStocks  2015-01-01   \n",
       "3  550442977802207232     ShowDreamCar  2015-01-01   \n",
       "4  550443807834402816     i_Know_First  2015-01-01   \n",
       "\n",
       "                                                body  comment_num   \n",
       "0  lx21 made $10,008  on $AAPL -Check it out! htt...            0  \\\n",
       "1  Insanity of today weirdo massive selling. $aap...            0   \n",
       "2  S&P100 #Stocks Performance $HD $LOW $SBUX $TGT...            0   \n",
       "3  $GM $TSLA: Volkswagen Pushes 2014 Record Recal...            0   \n",
       "4  Swing Trading: Up To 8.91% Return In 14 Days h...            0   \n",
       "\n",
       "   retweet_num  like_num ticker_symbol  \n",
       "0            0         1          AAPL  \n",
       "1            0         0          AAPL  \n",
       "2            0         0          AMZN  \n",
       "3            0         1          TSLA  \n",
       "4            0         1          AAPL  "
      ]
     },
     "execution_count": 7,
     "metadata": {},
     "output_type": "execute_result"
    }
   ],
   "source": [
    "mergedFile.head()"
   ]
  },
  {
   "cell_type": "code",
   "execution_count": 10,
   "id": "9872d566",
   "metadata": {},
   "outputs": [
    {
     "ename": "AttributeError",
     "evalue": "type object 'datetime.datetime' has no attribute 'timestampfromutc'",
     "output_type": "error",
     "traceback": [
      "\u001b[0;31m---------------------------------------------------------------------------\u001b[0m",
      "\u001b[0;31mAttributeError\u001b[0m                            Traceback (most recent call last)",
      "Cell \u001b[0;32mIn[10], line 2\u001b[0m\n\u001b[1;32m      1\u001b[0m targetDate \u001b[38;5;241m=\u001b[39m \u001b[38;5;124m\"\u001b[39m\u001b[38;5;124m2015-05-05\u001b[39m\u001b[38;5;124m\"\u001b[39m\n\u001b[0;32m----> 2\u001b[0m \u001b[43mdatetime\u001b[49m\u001b[38;5;241;43m.\u001b[39;49m\u001b[43mtimestampfromutc\u001b[49m(targetDate)\n",
      "\u001b[0;31mAttributeError\u001b[0m: type object 'datetime.datetime' has no attribute 'timestampfromutc'"
     ]
    }
   ],
   "source": [
    "targetDate = \"2015-05-05\"\n",
    "datetime.timestampfromutc(targetDate)\n",
    "\n",
    "# 604800"
   ]
  },
  {
   "cell_type": "code",
   "execution_count": 13,
   "id": "951b3fb4",
   "metadata": {},
   "outputs": [],
   "source": [
    "from datetime import timedelta\n",
    "target_date = pd.to_datetime(targetDate)\n",
    "one_week_before = target_date - timedelta(weeks=1)"
   ]
  },
  {
   "cell_type": "code",
   "execution_count": 19,
   "id": "0668d213",
   "metadata": {},
   "outputs": [],
   "source": [
    "one_week_before = one_week_before.strftime('%Y-%m-%d')"
   ]
  },
  {
   "cell_type": "code",
   "execution_count": 17,
   "id": "e168cb41",
   "metadata": {},
   "outputs": [
    {
     "data": {
      "text/plain": [
       "True"
      ]
     },
     "execution_count": 17,
     "metadata": {},
     "output_type": "execute_result"
    }
   ],
   "source": [
    "\"2015-03-31\"<\"2015-04-21\""
   ]
  },
  {
   "cell_type": "code",
   "execution_count": 20,
   "id": "0ee777ae",
   "metadata": {},
   "outputs": [],
   "source": [
    "start_value = one_week_before\n",
    "end_value = targetDate\n",
    "\n",
    "# Use boolean indexing to select tuples that fall within the specified range\n",
    "result = mergedFile[(mergedFile['post_date'] >= start_value) & (mergedFile['post_date'] <= end_value)]"
   ]
  },
  {
   "cell_type": "code",
   "execution_count": 22,
   "id": "e1dd44ef",
   "metadata": {},
   "outputs": [
    {
     "data": {
      "text/plain": [
       "24408"
      ]
     },
     "execution_count": 22,
     "metadata": {},
     "output_type": "execute_result"
    }
   ],
   "source": [
    "len(result)"
   ]
  },
  {
   "cell_type": "code",
   "execution_count": 23,
   "id": "f5e64aac",
   "metadata": {},
   "outputs": [
    {
     "data": {
      "text/html": [
       "<div>\n",
       "<style scoped>\n",
       "    .dataframe tbody tr th:only-of-type {\n",
       "        vertical-align: middle;\n",
       "    }\n",
       "\n",
       "    .dataframe tbody tr th {\n",
       "        vertical-align: top;\n",
       "    }\n",
       "\n",
       "    .dataframe thead th {\n",
       "        text-align: right;\n",
       "    }\n",
       "</style>\n",
       "<table border=\"1\" class=\"dataframe\">\n",
       "  <thead>\n",
       "    <tr style=\"text-align: right;\">\n",
       "      <th></th>\n",
       "      <th>tweet_id</th>\n",
       "      <th>writer</th>\n",
       "      <th>post_date</th>\n",
       "      <th>body</th>\n",
       "      <th>comment_num</th>\n",
       "      <th>retweet_num</th>\n",
       "      <th>like_num</th>\n",
       "      <th>ticker_symbol</th>\n",
       "    </tr>\n",
       "  </thead>\n",
       "  <tbody>\n",
       "    <tr>\n",
       "      <th>286443</th>\n",
       "      <td>592840721205428225</td>\n",
       "      <td>DCaptura</td>\n",
       "      <td>2015-04-28</td>\n",
       "      <td>.@tim @asymco If you think \"everything's bigge...</td>\n",
       "      <td>0</td>\n",
       "      <td>0</td>\n",
       "      <td>1</td>\n",
       "      <td>AAPL</td>\n",
       "    </tr>\n",
       "    <tr>\n",
       "      <th>286444</th>\n",
       "      <td>592840725676589057</td>\n",
       "      <td>10Xtrading</td>\n",
       "      <td>2015-04-28</td>\n",
       "      <td>$SLV Rockets Higher, Nice Profits! $AAPL Earni...</td>\n",
       "      <td>0</td>\n",
       "      <td>1</td>\n",
       "      <td>0</td>\n",
       "      <td>AAPL</td>\n",
       "    </tr>\n",
       "    <tr>\n",
       "      <th>286445</th>\n",
       "      <td>592840753115734017</td>\n",
       "      <td>_PennyStock</td>\n",
       "      <td>2015-04-28</td>\n",
       "      <td>Elon farted, $TSLA up 6% this morning http://r...</td>\n",
       "      <td>0</td>\n",
       "      <td>0</td>\n",
       "      <td>0</td>\n",
       "      <td>TSLA</td>\n",
       "    </tr>\n",
       "    <tr>\n",
       "      <th>286446</th>\n",
       "      <td>592840884640718848</td>\n",
       "      <td>Sandman7591</td>\n",
       "      <td>2015-04-28</td>\n",
       "      <td>.. @ryanmathews  it is...  right now easier to...</td>\n",
       "      <td>0</td>\n",
       "      <td>0</td>\n",
       "      <td>0</td>\n",
       "      <td>AAPL</td>\n",
       "    </tr>\n",
       "    <tr>\n",
       "      <th>286447</th>\n",
       "      <td>592840887476039681</td>\n",
       "      <td>Sara20992</td>\n",
       "      <td>2015-04-28</td>\n",
       "      <td>THE BINARY OPTIONS COMPETITION WIN $100,000 ht...</td>\n",
       "      <td>0</td>\n",
       "      <td>0</td>\n",
       "      <td>0</td>\n",
       "      <td>AAPL</td>\n",
       "    </tr>\n",
       "  </tbody>\n",
       "</table>\n",
       "</div>"
      ],
      "text/plain": [
       "                  tweet_id       writer   post_date   \n",
       "286443  592840721205428225     DCaptura  2015-04-28  \\\n",
       "286444  592840725676589057   10Xtrading  2015-04-28   \n",
       "286445  592840753115734017  _PennyStock  2015-04-28   \n",
       "286446  592840884640718848  Sandman7591  2015-04-28   \n",
       "286447  592840887476039681    Sara20992  2015-04-28   \n",
       "\n",
       "                                                     body  comment_num   \n",
       "286443  .@tim @asymco If you think \"everything's bigge...            0  \\\n",
       "286444  $SLV Rockets Higher, Nice Profits! $AAPL Earni...            0   \n",
       "286445  Elon farted, $TSLA up 6% this morning http://r...            0   \n",
       "286446  .. @ryanmathews  it is...  right now easier to...            0   \n",
       "286447  THE BINARY OPTIONS COMPETITION WIN $100,000 ht...            0   \n",
       "\n",
       "        retweet_num  like_num ticker_symbol  \n",
       "286443            0         1          AAPL  \n",
       "286444            1         0          AAPL  \n",
       "286445            0         0          TSLA  \n",
       "286446            0         0          AAPL  \n",
       "286447            0         0          AAPL  "
      ]
     },
     "execution_count": 23,
     "metadata": {},
     "output_type": "execute_result"
    }
   ],
   "source": [
    "result.head()"
   ]
  },
  {
   "cell_type": "code",
   "execution_count": 24,
   "id": "80d30f73",
   "metadata": {},
   "outputs": [],
   "source": [
    "resultCompany = result[result['ticker_symbol'] == \"AAPL\"]"
   ]
  },
  {
   "cell_type": "code",
   "execution_count": 25,
   "id": "e27ba5e6",
   "metadata": {},
   "outputs": [
    {
     "data": {
      "text/plain": [
       "12793"
      ]
     },
     "execution_count": 25,
     "metadata": {},
     "output_type": "execute_result"
    }
   ],
   "source": [
    "len(resultCompany)"
   ]
  },
  {
   "cell_type": "code",
   "execution_count": 28,
   "id": "762841d7",
   "metadata": {},
   "outputs": [],
   "source": [
    "# tweetsOb = result['body']\n",
    "tweetsOb = result['body'].values"
   ]
  },
  {
   "cell_type": "code",
   "execution_count": 30,
   "id": "c69cee74",
   "metadata": {},
   "outputs": [
    {
     "data": {
      "text/plain": [
       "'.@tim @asymco If you think \"everything\\'s bigger in TX\", you haven\\'t been to China. Yet another $AAPL blowout.'"
      ]
     },
     "execution_count": 30,
     "metadata": {},
     "output_type": "execute_result"
    }
   ],
   "source": [
    "tweetsOb[0]"
   ]
  },
  {
   "cell_type": "code",
   "execution_count": null,
   "id": "c0c7bfd9",
   "metadata": {},
   "outputs": [],
   "source": [
    "sentimentResult = sentiment_pipeline(tweet_texts)"
   ]
  }
 ],
 "metadata": {
  "kernelspec": {
   "display_name": "Python 3 (ipykernel)",
   "language": "python",
   "name": "python3"
  },
  "language_info": {
   "codemirror_mode": {
    "name": "ipython",
    "version": 3
   },
   "file_extension": ".py",
   "mimetype": "text/x-python",
   "name": "python",
   "nbconvert_exporter": "python",
   "pygments_lexer": "ipython3",
   "version": "3.10.9"
  }
 },
 "nbformat": 4,
 "nbformat_minor": 5
}
