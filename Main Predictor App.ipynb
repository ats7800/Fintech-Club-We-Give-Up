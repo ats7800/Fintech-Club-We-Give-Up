{
 "cells": [
  {
   "cell_type": "code",
   "execution_count": 2,
   "id": "0b8407ca",
   "metadata": {},
   "outputs": [],
   "source": [
    "import pandas as pd\n",
    "import numpy as np\n",
    "import tensorflow as tf\n",
    "from tensorflow import keras\n",
    "import matplotlib.pyplot as plt\n",
    "from sklearn import linear_model\n",
    "from datetime import datetime\n"
   ]
  },
  {
   "cell_type": "code",
   "execution_count": 5,
   "id": "53b1abfa",
   "metadata": {},
   "outputs": [],
   "source": [
    "xDf = pd.read_csv(\"outputx.csv\").to_numpy()\n",
    "yDf = pd.read_csv(\"outputy.csv\").to_numpy()"
   ]
  },
  {
   "cell_type": "code",
   "execution_count": 7,
   "id": "cfc80f4b",
   "metadata": {},
   "outputs": [
    {
     "data": {
      "text/plain": [
       "array([[ 0.05102348],\n",
       "       [ 0.05102348],\n",
       "       [ 0.05102348],\n",
       "       ...,\n",
       "       [-0.01662901],\n",
       "       [-0.01662901],\n",
       "       [-0.01662901]])"
      ]
     },
     "execution_count": 7,
     "metadata": {},
     "output_type": "execute_result"
    }
   ],
   "source": [
    "yDf"
   ]
  },
  {
   "cell_type": "code",
   "execution_count": 377,
   "id": "5c5847d9",
   "metadata": {},
   "outputs": [],
   "source": [
    "xArray = xDf.values\n",
    "x_train = yArray.tolist()"
   ]
  },
  {
   "cell_type": "code",
   "execution_count": 378,
   "id": "28af22d4",
   "metadata": {},
   "outputs": [],
   "source": [
    "y_train = yDf['values'].values"
   ]
  },
  {
   "cell_type": "code",
   "execution_count": 371,
   "id": "c86cdb57",
   "metadata": {},
   "outputs": [],
   "source": [
    "\n",
    "regMulti = linear_model.LinearRegression()\n"
   ]
  },
  {
   "cell_type": "code",
   "execution_count": 372,
   "id": "6488311a",
   "metadata": {},
   "outputs": [
    {
     "data": {
      "text/html": [
       "<style>#sk-container-id-2 {color: black;background-color: white;}#sk-container-id-2 pre{padding: 0;}#sk-container-id-2 div.sk-toggleable {background-color: white;}#sk-container-id-2 label.sk-toggleable__label {cursor: pointer;display: block;width: 100%;margin-bottom: 0;padding: 0.3em;box-sizing: border-box;text-align: center;}#sk-container-id-2 label.sk-toggleable__label-arrow:before {content: \"▸\";float: left;margin-right: 0.25em;color: #696969;}#sk-container-id-2 label.sk-toggleable__label-arrow:hover:before {color: black;}#sk-container-id-2 div.sk-estimator:hover label.sk-toggleable__label-arrow:before {color: black;}#sk-container-id-2 div.sk-toggleable__content {max-height: 0;max-width: 0;overflow: hidden;text-align: left;background-color: #f0f8ff;}#sk-container-id-2 div.sk-toggleable__content pre {margin: 0.2em;color: black;border-radius: 0.25em;background-color: #f0f8ff;}#sk-container-id-2 input.sk-toggleable__control:checked~div.sk-toggleable__content {max-height: 200px;max-width: 100%;overflow: auto;}#sk-container-id-2 input.sk-toggleable__control:checked~label.sk-toggleable__label-arrow:before {content: \"▾\";}#sk-container-id-2 div.sk-estimator input.sk-toggleable__control:checked~label.sk-toggleable__label {background-color: #d4ebff;}#sk-container-id-2 div.sk-label input.sk-toggleable__control:checked~label.sk-toggleable__label {background-color: #d4ebff;}#sk-container-id-2 input.sk-hidden--visually {border: 0;clip: rect(1px 1px 1px 1px);clip: rect(1px, 1px, 1px, 1px);height: 1px;margin: -1px;overflow: hidden;padding: 0;position: absolute;width: 1px;}#sk-container-id-2 div.sk-estimator {font-family: monospace;background-color: #f0f8ff;border: 1px dotted black;border-radius: 0.25em;box-sizing: border-box;margin-bottom: 0.5em;}#sk-container-id-2 div.sk-estimator:hover {background-color: #d4ebff;}#sk-container-id-2 div.sk-parallel-item::after {content: \"\";width: 100%;border-bottom: 1px solid gray;flex-grow: 1;}#sk-container-id-2 div.sk-label:hover label.sk-toggleable__label {background-color: #d4ebff;}#sk-container-id-2 div.sk-serial::before {content: \"\";position: absolute;border-left: 1px solid gray;box-sizing: border-box;top: 0;bottom: 0;left: 50%;z-index: 0;}#sk-container-id-2 div.sk-serial {display: flex;flex-direction: column;align-items: center;background-color: white;padding-right: 0.2em;padding-left: 0.2em;position: relative;}#sk-container-id-2 div.sk-item {position: relative;z-index: 1;}#sk-container-id-2 div.sk-parallel {display: flex;align-items: stretch;justify-content: center;background-color: white;position: relative;}#sk-container-id-2 div.sk-item::before, #sk-container-id-2 div.sk-parallel-item::before {content: \"\";position: absolute;border-left: 1px solid gray;box-sizing: border-box;top: 0;bottom: 0;left: 50%;z-index: -1;}#sk-container-id-2 div.sk-parallel-item {display: flex;flex-direction: column;z-index: 1;position: relative;background-color: white;}#sk-container-id-2 div.sk-parallel-item:first-child::after {align-self: flex-end;width: 50%;}#sk-container-id-2 div.sk-parallel-item:last-child::after {align-self: flex-start;width: 50%;}#sk-container-id-2 div.sk-parallel-item:only-child::after {width: 0;}#sk-container-id-2 div.sk-dashed-wrapped {border: 1px dashed gray;margin: 0 0.4em 0.5em 0.4em;box-sizing: border-box;padding-bottom: 0.4em;background-color: white;}#sk-container-id-2 div.sk-label label {font-family: monospace;font-weight: bold;display: inline-block;line-height: 1.2em;}#sk-container-id-2 div.sk-label-container {text-align: center;}#sk-container-id-2 div.sk-container {/* jupyter's `normalize.less` sets `[hidden] { display: none; }` but bootstrap.min.css set `[hidden] { display: none !important; }` so we also need the `!important` here to be able to override the default hidden behavior on the sphinx rendered scikit-learn.org. See: https://github.com/scikit-learn/scikit-learn/issues/21755 */display: inline-block !important;position: relative;}#sk-container-id-2 div.sk-text-repr-fallback {display: none;}</style><div id=\"sk-container-id-2\" class=\"sk-top-container\"><div class=\"sk-text-repr-fallback\"><pre>LinearRegression()</pre><b>In a Jupyter environment, please rerun this cell to show the HTML representation or trust the notebook. <br />On GitHub, the HTML representation is unable to render, please try loading this page with nbviewer.org.</b></div><div class=\"sk-container\" hidden><div class=\"sk-item\"><div class=\"sk-estimator sk-toggleable\"><input class=\"sk-toggleable__control sk-hidden--visually\" id=\"sk-estimator-id-2\" type=\"checkbox\" checked><label for=\"sk-estimator-id-2\" class=\"sk-toggleable__label sk-toggleable__label-arrow\">LinearRegression</label><div class=\"sk-toggleable__content\"><pre>LinearRegression()</pre></div></div></div></div></div>"
      ],
      "text/plain": [
       "LinearRegression()"
      ]
     },
     "execution_count": 372,
     "metadata": {},
     "output_type": "execute_result"
    }
   ],
   "source": [
    "regMulti.fit(xDf[['A', 'B', 'C','D','E']],y_train)"
   ]
  },
  {
   "cell_type": "code",
   "execution_count": 379,
   "id": "6563d5d6",
   "metadata": {
    "scrolled": true
   },
   "outputs": [
    {
     "name": "stderr",
     "output_type": "stream",
     "text": [
      "/Users/ashutoshsingh/anaconda3/lib/python3.10/site-packages/sklearn/base.py:439: UserWarning: X does not have valid feature names, but LinearRegression was fitted with feature names\n",
      "  warnings.warn(\n"
     ]
    }
   ],
   "source": [
    "pred = regMulti.predict(x_train)"
   ]
  },
  {
   "cell_type": "code",
   "execution_count": 380,
   "id": "ce9e9576",
   "metadata": {},
   "outputs": [],
   "source": [
    "def Accuracy(actual,predicted):\n",
    "    fails = 0;\n",
    "    passes = 0;\n",
    "    for i, j in zip(y_train,pred):\n",
    "        if(i*j<0):\n",
    "            fails=fails+1\n",
    "        else:\n",
    "            passes=passes+1\n",
    "    return passes/(passes+fails)"
   ]
  },
  {
   "cell_type": "code",
   "execution_count": 381,
   "id": "85ece4b7",
   "metadata": {},
   "outputs": [
    {
     "data": {
      "text/plain": [
       "0.65"
      ]
     },
     "execution_count": 381,
     "metadata": {},
     "output_type": "execute_result"
    }
   ],
   "source": [
    "Accuracy(y_train,pred)"
   ]
  },
  {
   "cell_type": "code",
   "execution_count": 3,
   "id": "c441bb9b",
   "metadata": {
    "collapsed": true
   },
   "outputs": [
    {
     "name": "stdout",
     "output_type": "stream",
     "text": [
      "Collecting transformers\n",
      "  Using cached transformers-4.27.4-py3-none-any.whl (6.8 MB)\n",
      "Requirement already satisfied: huggingface-hub<1.0,>=0.11.0 in /Users/ashutoshsingh/anaconda3/lib/python3.10/site-packages (from transformers) (0.13.4)\n",
      "Requirement already satisfied: regex!=2019.12.17 in /Users/ashutoshsingh/anaconda3/lib/python3.10/site-packages (from transformers) (2022.7.9)\n",
      "Requirement already satisfied: packaging>=20.0 in /Users/ashutoshsingh/anaconda3/lib/python3.10/site-packages (from transformers) (22.0)\n",
      "Requirement already satisfied: tqdm>=4.27 in /Users/ashutoshsingh/anaconda3/lib/python3.10/site-packages (from transformers) (4.64.1)\n",
      "Requirement already satisfied: pyyaml>=5.1 in /Users/ashutoshsingh/anaconda3/lib/python3.10/site-packages (from transformers) (6.0)\n",
      "Requirement already satisfied: tokenizers!=0.11.3,<0.14,>=0.11.1 in /Users/ashutoshsingh/anaconda3/lib/python3.10/site-packages (from transformers) (0.11.4)\n",
      "Requirement already satisfied: requests in /Users/ashutoshsingh/anaconda3/lib/python3.10/site-packages (from transformers) (2.28.1)\n",
      "Requirement already satisfied: numpy>=1.17 in /Users/ashutoshsingh/anaconda3/lib/python3.10/site-packages (from transformers) (1.24.2)\n",
      "Requirement already satisfied: filelock in /Users/ashutoshsingh/anaconda3/lib/python3.10/site-packages (from transformers) (3.9.0)\n",
      "Requirement already satisfied: typing-extensions>=3.7.4.3 in /Users/ashutoshsingh/anaconda3/lib/python3.10/site-packages (from huggingface-hub<1.0,>=0.11.0->transformers) (4.4.0)\n",
      "Requirement already satisfied: idna<4,>=2.5 in /Users/ashutoshsingh/anaconda3/lib/python3.10/site-packages (from requests->transformers) (3.4)\n",
      "Requirement already satisfied: urllib3<1.27,>=1.21.1 in /Users/ashutoshsingh/anaconda3/lib/python3.10/site-packages (from requests->transformers) (1.26.14)\n",
      "Requirement already satisfied: charset-normalizer<3,>=2 in /Users/ashutoshsingh/anaconda3/lib/python3.10/site-packages (from requests->transformers) (2.0.4)\n",
      "Requirement already satisfied: certifi>=2017.4.17 in /Users/ashutoshsingh/anaconda3/lib/python3.10/site-packages (from requests->transformers) (2022.12.7)\n",
      "Installing collected packages: transformers\n",
      "Successfully installed transformers-4.27.4\n"
     ]
    },
    {
     "name": "stderr",
     "output_type": "stream",
     "text": [
      "/Users/ashutoshsingh/anaconda3/lib/python3.10/site-packages/tqdm/auto.py:22: TqdmWarning: IProgress not found. Please update jupyter and ipywidgets. See https://ipywidgets.readthedocs.io/en/stable/user_install.html\n",
      "  from .autonotebook import tqdm as notebook_tqdm\n"
     ]
    }
   ],
   "source": [
    "!pip install transformers\n",
    "from transformers import pipeline"
   ]
  },
  {
   "cell_type": "code",
   "execution_count": 39,
   "id": "591c0508",
   "metadata": {
    "collapsed": true
   },
   "outputs": [
    {
     "name": "stdout",
     "output_type": "stream",
     "text": [
      "['5 stars', '5 stars'] [0.910667359828949, 0.5614448189735413]\n"
     ]
    }
   ],
   "source": [
    "sentiment_pipeline = pipeline(\"sentiment-analysis\", model=\"nlptown/bert-base-multilingual-uncased-sentiment\")\n"
   ]
  },
  {
   "cell_type": "code",
   "execution_count": 6,
   "id": "074c7f09",
   "metadata": {},
   "outputs": [],
   "source": [
    "mergedFile = pd.read_csv(\"merged_file.csv\")"
   ]
  },
  {
   "cell_type": "code",
   "execution_count": 7,
   "id": "be0e0d1d",
   "metadata": {
    "scrolled": true
   },
   "outputs": [
    {
     "data": {
      "text/html": [
       "<div>\n",
       "<style scoped>\n",
       "    .dataframe tbody tr th:only-of-type {\n",
       "        vertical-align: middle;\n",
       "    }\n",
       "\n",
       "    .dataframe tbody tr th {\n",
       "        vertical-align: top;\n",
       "    }\n",
       "\n",
       "    .dataframe thead th {\n",
       "        text-align: right;\n",
       "    }\n",
       "</style>\n",
       "<table border=\"1\" class=\"dataframe\">\n",
       "  <thead>\n",
       "    <tr style=\"text-align: right;\">\n",
       "      <th></th>\n",
       "      <th>tweet_id</th>\n",
       "      <th>writer</th>\n",
       "      <th>post_date</th>\n",
       "      <th>body</th>\n",
       "      <th>comment_num</th>\n",
       "      <th>retweet_num</th>\n",
       "      <th>like_num</th>\n",
       "      <th>ticker_symbol</th>\n",
       "    </tr>\n",
       "  </thead>\n",
       "  <tbody>\n",
       "    <tr>\n",
       "      <th>0</th>\n",
       "      <td>550441509175443456</td>\n",
       "      <td>VisualStockRSRC</td>\n",
       "      <td>2015-01-01</td>\n",
       "      <td>lx21 made $10,008  on $AAPL -Check it out! htt...</td>\n",
       "      <td>0</td>\n",
       "      <td>0</td>\n",
       "      <td>1</td>\n",
       "      <td>AAPL</td>\n",
       "    </tr>\n",
       "    <tr>\n",
       "      <th>1</th>\n",
       "      <td>550441672312512512</td>\n",
       "      <td>KeralaGuy77</td>\n",
       "      <td>2015-01-01</td>\n",
       "      <td>Insanity of today weirdo massive selling. $aap...</td>\n",
       "      <td>0</td>\n",
       "      <td>0</td>\n",
       "      <td>0</td>\n",
       "      <td>AAPL</td>\n",
       "    </tr>\n",
       "    <tr>\n",
       "      <th>2</th>\n",
       "      <td>550441732014223360</td>\n",
       "      <td>DozenStocks</td>\n",
       "      <td>2015-01-01</td>\n",
       "      <td>S&amp;P100 #Stocks Performance $HD $LOW $SBUX $TGT...</td>\n",
       "      <td>0</td>\n",
       "      <td>0</td>\n",
       "      <td>0</td>\n",
       "      <td>AMZN</td>\n",
       "    </tr>\n",
       "    <tr>\n",
       "      <th>3</th>\n",
       "      <td>550442977802207232</td>\n",
       "      <td>ShowDreamCar</td>\n",
       "      <td>2015-01-01</td>\n",
       "      <td>$GM $TSLA: Volkswagen Pushes 2014 Record Recal...</td>\n",
       "      <td>0</td>\n",
       "      <td>0</td>\n",
       "      <td>1</td>\n",
       "      <td>TSLA</td>\n",
       "    </tr>\n",
       "    <tr>\n",
       "      <th>4</th>\n",
       "      <td>550443807834402816</td>\n",
       "      <td>i_Know_First</td>\n",
       "      <td>2015-01-01</td>\n",
       "      <td>Swing Trading: Up To 8.91% Return In 14 Days h...</td>\n",
       "      <td>0</td>\n",
       "      <td>0</td>\n",
       "      <td>1</td>\n",
       "      <td>AAPL</td>\n",
       "    </tr>\n",
       "  </tbody>\n",
       "</table>\n",
       "</div>"
      ],
      "text/plain": [
       "             tweet_id           writer   post_date   \n",
       "0  550441509175443456  VisualStockRSRC  2015-01-01  \\\n",
       "1  550441672312512512      KeralaGuy77  2015-01-01   \n",
       "2  550441732014223360      DozenStocks  2015-01-01   \n",
       "3  550442977802207232     ShowDreamCar  2015-01-01   \n",
       "4  550443807834402816     i_Know_First  2015-01-01   \n",
       "\n",
       "                                                body  comment_num   \n",
       "0  lx21 made $10,008  on $AAPL -Check it out! htt...            0  \\\n",
       "1  Insanity of today weirdo massive selling. $aap...            0   \n",
       "2  S&P100 #Stocks Performance $HD $LOW $SBUX $TGT...            0   \n",
       "3  $GM $TSLA: Volkswagen Pushes 2014 Record Recal...            0   \n",
       "4  Swing Trading: Up To 8.91% Return In 14 Days h...            0   \n",
       "\n",
       "   retweet_num  like_num ticker_symbol  \n",
       "0            0         1          AAPL  \n",
       "1            0         0          AAPL  \n",
       "2            0         0          AMZN  \n",
       "3            0         1          TSLA  \n",
       "4            0         1          AAPL  "
      ]
     },
     "execution_count": 7,
     "metadata": {},
     "output_type": "execute_result"
    }
   ],
   "source": [
    "mergedFile.head()"
   ]
  },
  {
   "cell_type": "code",
   "execution_count": 131,
   "id": "04d032fe",
   "metadata": {},
   "outputs": [],
   "source": [
    "targetDate = \"2018-08-30\"\n",
    "tragetName = \"AMZN\""
   ]
  },
  {
   "cell_type": "code",
   "execution_count": 196,
   "id": "52d2838c",
   "metadata": {},
   "outputs": [],
   "source": [
    "target_date = pd.to_datetime(targetDate)\n",
    "one_week_before = target_date - timedelta(days=7)"
   ]
  },
  {
   "cell_type": "code",
   "execution_count": 197,
   "id": "eed868d7",
   "metadata": {},
   "outputs": [],
   "source": [
    "one_week_before = one_week_before.strftime('%Y-%m-%d')"
   ]
  },
  {
   "cell_type": "code",
   "execution_count": 199,
   "id": "97c98060",
   "metadata": {},
   "outputs": [],
   "source": [
    "start_value = one_week_before\n",
    "end_value = targetDate\n",
    "\n",
    "resultPart = mergedFile[(mergedFile['post_date'] >= start_value) & (mergedFile['post_date'] <= end_value)]"
   ]
  },
  {
   "cell_type": "code",
   "execution_count": 200,
   "id": "be4e2177",
   "metadata": {
    "scrolled": true
   },
   "outputs": [
    {
     "data": {
      "text/plain": [
       "25917"
      ]
     },
     "execution_count": 200,
     "metadata": {},
     "output_type": "execute_result"
    }
   ],
   "source": [
    "len(resultPart)"
   ]
  },
  {
   "cell_type": "code",
   "execution_count": 201,
   "id": "38b05c95",
   "metadata": {},
   "outputs": [
    {
     "data": {
      "text/html": [
       "<div>\n",
       "<style scoped>\n",
       "    .dataframe tbody tr th:only-of-type {\n",
       "        vertical-align: middle;\n",
       "    }\n",
       "\n",
       "    .dataframe tbody tr th {\n",
       "        vertical-align: top;\n",
       "    }\n",
       "\n",
       "    .dataframe thead th {\n",
       "        text-align: right;\n",
       "    }\n",
       "</style>\n",
       "<table border=\"1\" class=\"dataframe\">\n",
       "  <thead>\n",
       "    <tr style=\"text-align: right;\">\n",
       "      <th></th>\n",
       "      <th>tweet_id</th>\n",
       "      <th>writer</th>\n",
       "      <th>post_date</th>\n",
       "      <th>body</th>\n",
       "      <th>comment_num</th>\n",
       "      <th>retweet_num</th>\n",
       "      <th>like_num</th>\n",
       "      <th>ticker_symbol</th>\n",
       "    </tr>\n",
       "  </thead>\n",
       "  <tbody>\n",
       "    <tr>\n",
       "      <th>3070631</th>\n",
       "      <td>1032417137166561280</td>\n",
       "      <td>tradewithjoe</td>\n",
       "      <td>2018-08-23</td>\n",
       "      <td>100K OPTIONS TRADING CHALLENGE IS ON. ARE YOU ...</td>\n",
       "      <td>0</td>\n",
       "      <td>0</td>\n",
       "      <td>0</td>\n",
       "      <td>AAPL</td>\n",
       "    </tr>\n",
       "    <tr>\n",
       "      <th>3070632</th>\n",
       "      <td>1032417179159879680</td>\n",
       "      <td>MelaynaLokosky</td>\n",
       "      <td>2018-08-23</td>\n",
       "      <td>She could have written this open letter while ...</td>\n",
       "      <td>2</td>\n",
       "      <td>1</td>\n",
       "      <td>7</td>\n",
       "      <td>TSLA</td>\n",
       "    </tr>\n",
       "    <tr>\n",
       "      <th>3070633</th>\n",
       "      <td>1032417639170285568</td>\n",
       "      <td>valuewalk</td>\n",
       "      <td>2018-08-23</td>\n",
       "      <td>Crispin Odey: Tesla Is “Entering The Final Sta...</td>\n",
       "      <td>0</td>\n",
       "      <td>0</td>\n",
       "      <td>3</td>\n",
       "      <td>TSLA</td>\n",
       "    </tr>\n",
       "    <tr>\n",
       "      <th>3070634</th>\n",
       "      <td>1032417887246594048</td>\n",
       "      <td>PlugInFUD</td>\n",
       "      <td>2018-08-23</td>\n",
       "      <td>Mirror mirror on the wallWho's the baggiest ba...</td>\n",
       "      <td>0</td>\n",
       "      <td>0</td>\n",
       "      <td>3</td>\n",
       "      <td>TSLA</td>\n",
       "    </tr>\n",
       "    <tr>\n",
       "      <th>3070635</th>\n",
       "      <td>1032417956834226176</td>\n",
       "      <td>pharris667</td>\n",
       "      <td>2018-08-23</td>\n",
       "      <td>IBD Big Cap 20 With Rank August 22, 2018 1. $A...</td>\n",
       "      <td>0</td>\n",
       "      <td>0</td>\n",
       "      <td>8</td>\n",
       "      <td>AAPL</td>\n",
       "    </tr>\n",
       "  </tbody>\n",
       "</table>\n",
       "</div>"
      ],
      "text/plain": [
       "                    tweet_id          writer   post_date   \n",
       "3070631  1032417137166561280    tradewithjoe  2018-08-23  \\\n",
       "3070632  1032417179159879680  MelaynaLokosky  2018-08-23   \n",
       "3070633  1032417639170285568       valuewalk  2018-08-23   \n",
       "3070634  1032417887246594048       PlugInFUD  2018-08-23   \n",
       "3070635  1032417956834226176      pharris667  2018-08-23   \n",
       "\n",
       "                                                      body  comment_num   \n",
       "3070631  100K OPTIONS TRADING CHALLENGE IS ON. ARE YOU ...            0  \\\n",
       "3070632  She could have written this open letter while ...            2   \n",
       "3070633  Crispin Odey: Tesla Is “Entering The Final Sta...            0   \n",
       "3070634  Mirror mirror on the wallWho's the baggiest ba...            0   \n",
       "3070635  IBD Big Cap 20 With Rank August 22, 2018 1. $A...            0   \n",
       "\n",
       "         retweet_num  like_num ticker_symbol  \n",
       "3070631            0         0          AAPL  \n",
       "3070632            1         7          TSLA  \n",
       "3070633            0         3          TSLA  \n",
       "3070634            0         3          TSLA  \n",
       "3070635            0         8          AAPL  "
      ]
     },
     "execution_count": 201,
     "metadata": {},
     "output_type": "execute_result"
    }
   ],
   "source": [
    "resultPart.head()"
   ]
  },
  {
   "cell_type": "code",
   "execution_count": 202,
   "id": "12bfe830",
   "metadata": {},
   "outputs": [
    {
     "data": {
      "text/html": [
       "<div>\n",
       "<style scoped>\n",
       "    .dataframe tbody tr th:only-of-type {\n",
       "        vertical-align: middle;\n",
       "    }\n",
       "\n",
       "    .dataframe tbody tr th {\n",
       "        vertical-align: top;\n",
       "    }\n",
       "\n",
       "    .dataframe thead th {\n",
       "        text-align: right;\n",
       "    }\n",
       "</style>\n",
       "<table border=\"1\" class=\"dataframe\">\n",
       "  <thead>\n",
       "    <tr style=\"text-align: right;\">\n",
       "      <th></th>\n",
       "      <th>tweet_id</th>\n",
       "      <th>writer</th>\n",
       "      <th>post_date</th>\n",
       "      <th>body</th>\n",
       "      <th>comment_num</th>\n",
       "      <th>retweet_num</th>\n",
       "      <th>like_num</th>\n",
       "      <th>ticker_symbol</th>\n",
       "    </tr>\n",
       "  </thead>\n",
       "  <tbody>\n",
       "    <tr>\n",
       "      <th>3091750</th>\n",
       "      <td>1034878896305569801</td>\n",
       "      <td>charliebilello</td>\n",
       "      <td>2018-08-29</td>\n",
       "      <td>2018 Returns...$FB: -1%$AAPL: +33%$AMZN: +70%$...</td>\n",
       "      <td>4</td>\n",
       "      <td>88</td>\n",
       "      <td>125</td>\n",
       "      <td>AMZN</td>\n",
       "    </tr>\n",
       "    <tr>\n",
       "      <th>3086869</th>\n",
       "      <td>1034474232074457089</td>\n",
       "      <td>crowdturtle</td>\n",
       "      <td>2018-08-28</td>\n",
       "      <td>absolutely fantastic partnership letter from @...</td>\n",
       "      <td>7</td>\n",
       "      <td>77</td>\n",
       "      <td>321</td>\n",
       "      <td>AMZN</td>\n",
       "    </tr>\n",
       "    <tr>\n",
       "      <th>3091451</th>\n",
       "      <td>1034861214646644737</td>\n",
       "      <td>followtheh</td>\n",
       "      <td>2018-08-29</td>\n",
       "      <td>Aaron Rodgers' entire contract is 3.9% of what...</td>\n",
       "      <td>8</td>\n",
       "      <td>59</td>\n",
       "      <td>147</td>\n",
       "      <td>AMZN</td>\n",
       "    </tr>\n",
       "    <tr>\n",
       "      <th>3090840</th>\n",
       "      <td>1034832533547044864</td>\n",
       "      <td>Sandro_power</td>\n",
       "      <td>2018-08-29</td>\n",
       "      <td>while the stockclown #1 bearish wrong stock ex...</td>\n",
       "      <td>27</td>\n",
       "      <td>57</td>\n",
       "      <td>71</td>\n",
       "      <td>AMZN</td>\n",
       "    </tr>\n",
       "    <tr>\n",
       "      <th>3092155</th>\n",
       "      <td>1034897704252530689</td>\n",
       "      <td>Sandro_power</td>\n",
       "      <td>2018-08-29</td>\n",
       "      <td>Live stream Tonight at  9;30pm Eastern Standar...</td>\n",
       "      <td>17</td>\n",
       "      <td>55</td>\n",
       "      <td>73</td>\n",
       "      <td>AMZN</td>\n",
       "    </tr>\n",
       "  </tbody>\n",
       "</table>\n",
       "</div>"
      ],
      "text/plain": [
       "                    tweet_id          writer   post_date   \n",
       "3091750  1034878896305569801  charliebilello  2018-08-29  \\\n",
       "3086869  1034474232074457089     crowdturtle  2018-08-28   \n",
       "3091451  1034861214646644737      followtheh  2018-08-29   \n",
       "3090840  1034832533547044864    Sandro_power  2018-08-29   \n",
       "3092155  1034897704252530689    Sandro_power  2018-08-29   \n",
       "\n",
       "                                                      body  comment_num   \n",
       "3091750  2018 Returns...$FB: -1%$AAPL: +33%$AMZN: +70%$...            4  \\\n",
       "3086869  absolutely fantastic partnership letter from @...            7   \n",
       "3091451  Aaron Rodgers' entire contract is 3.9% of what...            8   \n",
       "3090840  while the stockclown #1 bearish wrong stock ex...           27   \n",
       "3092155  Live stream Tonight at  9;30pm Eastern Standar...           17   \n",
       "\n",
       "         retweet_num  like_num ticker_symbol  \n",
       "3091750           88       125          AMZN  \n",
       "3086869           77       321          AMZN  \n",
       "3091451           59       147          AMZN  \n",
       "3090840           57        71          AMZN  \n",
       "3092155           55        73          AMZN  "
      ]
     },
     "execution_count": 202,
     "metadata": {},
     "output_type": "execute_result"
    }
   ],
   "source": [
    "resultCompany = resultPart[resultPart['ticker_symbol'] == \"AMZN\"]\n",
    "resultCompany = resultCompany.sort_values('retweet_num', ascending=False)\n",
    "resultCompany = resultCompany.head(200)\n",
    "resultCompany.head()"
   ]
  },
  {
   "cell_type": "code",
   "execution_count": 204,
   "id": "2fc74d24",
   "metadata": {},
   "outputs": [],
   "source": [
    "tweetsOb = resultCompany['body'].values\n",
    "retweetsOb = resultCompany['retweet_num'].values\n",
    "commentOb = resultCompany['comment_num'].values\n",
    "likeOb = resultCompany['like_num'].values\n",
    "\n",
    "# How many days before the target Date:\n",
    "daysOb = [(datetime.strptime(targetDate, \"%Y-%m-%d\")-datetime.strptime(date2, \"%Y-%m-%d\")).days for date2 in resultCompany['post_date']]\n",
    "\n"
   ]
  },
  {
   "cell_type": "code",
   "execution_count": 207,
   "id": "9efac96e",
   "metadata": {},
   "outputs": [],
   "source": [
    "sentimentResult = sentiment_pipeline(tweetsOb.tolist())"
   ]
  },
  {
   "cell_type": "code",
   "execution_count": 208,
   "id": "e72ea929",
   "metadata": {},
   "outputs": [
    {
     "data": {
      "text/plain": [
       "[1, 5, 1, 1, 5]"
      ]
     },
     "execution_count": 208,
     "metadata": {},
     "output_type": "execute_result"
    }
   ],
   "source": [
    "labels = [int(i['label'].split()[0]) for i in sentimentResult]"
   ]
  },
  {
   "cell_type": "code",
   "execution_count": 188,
   "id": "b9f59e32",
   "metadata": {},
   "outputs": [],
   "source": [
    "retSum = sum(retweetsOb)\n",
    "retweetsObW = retweetsOb/retSum\n",
    "comSum = sum(commentOb)\n",
    "commentObW = commentOb/comSum\n",
    "likeSum = sum(likeOb)\n",
    "likeObW = likeOb/likeSum\n",
    "\n",
    "weights = [x + y + z for x, y, z in zip(retweetsObW, commentObW, likeObW)]\n",
    "# weights = [1 for i in range(100)]\n",
    "sum(weights)"
   ]
  },
  {
   "cell_type": "code",
   "execution_count": 209,
   "id": "18caae91",
   "metadata": {},
   "outputs": [],
   "source": [
    "def weighted_avg(items, weights):\n",
    "    if len(items) != len(weights):\n",
    "        raise ValueError(\"Items and weights must have the same length.\")\n",
    "    total_weighted_sum = sum([item * weight for item, weight in zip(items, weights)])\n",
    "    total_weight = sum(weights)\n",
    "    if total_weight == 0:\n",
    "        raise ValueError(\"Total weight cannot be zero.\")\n",
    "    weighted_avg = total_weighted_sum / total_weight\n",
    "    return weighted_avg\n",
    "SentimentWeightedAvg = weighted_avg(labels,weights)"
   ]
  },
  {
   "cell_type": "code",
   "execution_count": null,
   "id": "fb99f29c",
   "metadata": {},
   "outputs": [],
   "source": [
    "xObj = [[a,b,c,d,e] for a,b,c,d,e in zip(labels, retweetsOb, commentOb, likeOb, daysOb)]\n"
   ]
  },
  {
   "cell_type": "code",
   "execution_count": null,
   "id": "ec54f72d",
   "metadata": {},
   "outputs": [],
   "source": [
    "thisPred = regMulti.predict(xObj)\n"
   ]
  },
  {
   "cell_type": "code",
   "execution_count": 384,
   "id": "e8b9f828",
   "metadata": {},
   "outputs": [],
   "source": [
    "from transformers import AutoTokenizer, AutoModelForSequenceClassification\n",
    "\n",
    "tokenizer = AutoTokenizer.from_pretrained(\"ProsusAI/finbert\")\n",
    "\n",
    "model = AutoModelForSequenceClassification.from_pretrained(\"ProsusAI/finbert\")"
   ]
  },
  {
   "cell_type": "code",
   "execution_count": 385,
   "id": "09d12d37",
   "metadata": {},
   "outputs": [],
   "source": [
    "from transformers import pipeline\n"
   ]
  },
  {
   "cell_type": "code",
   "execution_count": 386,
   "id": "8de80709",
   "metadata": {},
   "outputs": [],
   "source": [
    "nlp = pipeline(\"sentiment-analysis\", model=model, tokenizer=tokenizer)"
   ]
  },
  {
   "cell_type": "code",
   "execution_count": 390,
   "id": "ab6dcd6c",
   "metadata": {},
   "outputs": [],
   "source": [
    "sentiResult = nlp(tweetsOb.tolist())"
   ]
  },
  {
   "cell_type": "code",
   "execution_count": 11,
   "id": "0785cd63",
   "metadata": {},
   "outputs": [],
   "source": [
    "sentiResult = [{'label': 'neutral', 'score': 0.9201053977012634},\n",
    " {'label': 'positive', 'score': 0.5393479466438293},\n",
    " {'label': 'neutral', 'score': 0.9033854603767395},\n",
    " {'label': 'neutral', 'score': 0.9045191407203674},\n",
    " {'label': 'neutral', 'score': 0.7440078854560852},\n",
    " {'label': 'positive', 'score': 0.5670746564865112},\n",
    " {'label': 'neutral', 'score': 0.6934283971786499},\n",
    " {'label': 'positive', 'score': 0.44679689407348633},\n",
    " {'label': 'neutral', 'score': 0.8157535195350647},\n",
    " {'label': 'neutral', 'score': 0.9311531782150269},\n",
    " {'label': 'neutral', 'score': 0.9164313077926636},\n",
    " {'label': 'neutral', 'score': 0.8958992958068848},]"
   ]
  },
  {
   "cell_type": "code",
   "execution_count": 21,
   "id": "0cb3afc1",
   "metadata": {},
   "outputs": [],
   "source": [
    "labels = [0 for i in sentiResult]\n",
    "i =0\n",
    "for el in sentiResult:\n",
    "    if el['label'] == 'positive':\n",
    "        labels[i] = (el['score'])\n",
    "    elif el['label'] == 'negative':\n",
    "        labels[i] = -(el['score'])\n",
    "    i=i+1\n",
    "\n",
    "\n",
    "        "
   ]
  },
  {
   "cell_type": "code",
   "execution_count": 22,
   "id": "1619ed26",
   "metadata": {},
   "outputs": [
    {
     "data": {
      "text/plain": [
       "[0,\n",
       " 0.5393479466438293,\n",
       " 0,\n",
       " 0,\n",
       " 0,\n",
       " 0.5670746564865112,\n",
       " 0,\n",
       " 0.44679689407348633,\n",
       " 0,\n",
       " 0,\n",
       " 0,\n",
       " 0]"
      ]
     },
     "execution_count": 22,
     "metadata": {},
     "output_type": "execute_result"
    }
   ],
   "source": [
    "labels"
   ]
  },
  {
   "cell_type": "code",
   "execution_count": null,
   "id": "72145958",
   "metadata": {},
   "outputs": [],
   "source": []
  },
  {
   "cell_type": "code",
   "execution_count": null,
   "id": "7b8e0d1c",
   "metadata": {},
   "outputs": [],
   "source": []
  },
  {
   "cell_type": "code",
   "execution_count": 396,
   "id": "6ed14c91",
   "metadata": {},
   "outputs": [],
   "source": [
    "labels = [{\"positive\":0,\"neutral\":0,\"negative\":0} for i in sentiResult]"
   ]
  },
  {
   "cell_type": "code",
   "execution_count": 401,
   "id": "c38600eb",
   "metadata": {},
   "outputs": [],
   "source": [
    "labels = [{\"positive\":0,\"neutral\":0,\"negative\":0} for i in sentiResult]\n",
    "i =0\n",
    "for obj in sentiResult:\n",
    "    (labels[i])[obj['label']] = obj['score']\n",
    "    i=i+1"
   ]
  },
  {
   "cell_type": "code",
   "execution_count": 403,
   "id": "0c0af408",
   "metadata": {},
   "outputs": [
    {
     "data": {
      "text/plain": [
       "[{'positive': 0, 'neutral': 0.9201053977012634, 'negative': 0},\n",
       " {'positive': 0.5393479466438293, 'neutral': 0, 'negative': 0},\n",
       " {'positive': 0, 'neutral': 0.9033854603767395, 'negative': 0},\n",
       " {'positive': 0, 'neutral': 0.9045191407203674, 'negative': 0},\n",
       " {'positive': 0, 'neutral': 0.7440078854560852, 'negative': 0}]"
      ]
     },
     "execution_count": 403,
     "metadata": {},
     "output_type": "execute_result"
    }
   ],
   "source": [
    "labels[:5]"
   ]
  },
  {
   "cell_type": "code",
   "execution_count": null,
   "id": "6f809d62",
   "metadata": {},
   "outputs": [],
   "source": []
  }
 ],
 "metadata": {
  "kernelspec": {
   "display_name": "Python 3 (ipykernel)",
   "language": "python",
   "name": "python3"
  },
  "language_info": {
   "codemirror_mode": {
    "name": "ipython",
    "version": 3
   },
   "file_extension": ".py",
   "mimetype": "text/x-python",
   "name": "python",
   "nbconvert_exporter": "python",
   "pygments_lexer": "ipython3",
   "version": "3.10.9"
  }
 },
 "nbformat": 4,
 "nbformat_minor": 5
}
