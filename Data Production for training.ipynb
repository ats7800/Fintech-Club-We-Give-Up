{
 "cells": [
  {
   "cell_type": "code",
   "execution_count": 39,
   "id": "5314c831",
   "metadata": {},
   "outputs": [],
   "source": [
    "import tensorflow as tf\n",
    "from tensorflow import keras\n",
    "import matplotlib.pyplot as plt\n",
    "import pandas as pd\n",
    "import numpy as np\n",
    "from datetime import datetime\n",
    "from datetime import timedelta\n",
    "\n"
   ]
  },
  {
   "cell_type": "code",
   "execution_count": 38,
   "id": "94630595",
   "metadata": {},
   "outputs": [],
   "source": [
    "# tweets = pd.read_csv(\"tweets.csv\")\n",
    "# tweetI = pd.read_csv(\"tweet-index.csv\")\n",
    "df = pd.read_csv(\"AMZN.csv\")"
   ]
  },
  {
   "cell_type": "code",
   "execution_count": 40,
   "id": "70dd18cf",
   "metadata": {},
   "outputs": [
    {
     "data": {
      "text/html": [
       "<div>\n",
       "<style scoped>\n",
       "    .dataframe tbody tr th:only-of-type {\n",
       "        vertical-align: middle;\n",
       "    }\n",
       "\n",
       "    .dataframe tbody tr th {\n",
       "        vertical-align: top;\n",
       "    }\n",
       "\n",
       "    .dataframe thead th {\n",
       "        text-align: right;\n",
       "    }\n",
       "</style>\n",
       "<table border=\"1\" class=\"dataframe\">\n",
       "  <thead>\n",
       "    <tr style=\"text-align: right;\">\n",
       "      <th></th>\n",
       "      <th>Date</th>\n",
       "      <th>Open</th>\n",
       "      <th>High</th>\n",
       "      <th>Low</th>\n",
       "      <th>Close</th>\n",
       "      <th>Adj Close</th>\n",
       "      <th>Volume</th>\n",
       "    </tr>\n",
       "  </thead>\n",
       "  <tbody>\n",
       "    <tr>\n",
       "      <th>0</th>\n",
       "      <td>2017-01-03</td>\n",
       "      <td>37.896000</td>\n",
       "      <td>37.938000</td>\n",
       "      <td>37.384998</td>\n",
       "      <td>37.683498</td>\n",
       "      <td>37.683498</td>\n",
       "      <td>70422000</td>\n",
       "    </tr>\n",
       "    <tr>\n",
       "      <th>1</th>\n",
       "      <td>2017-01-04</td>\n",
       "      <td>37.919498</td>\n",
       "      <td>37.984001</td>\n",
       "      <td>37.709999</td>\n",
       "      <td>37.859001</td>\n",
       "      <td>37.859001</td>\n",
       "      <td>50210000</td>\n",
       "    </tr>\n",
       "    <tr>\n",
       "      <th>2</th>\n",
       "      <td>2017-01-05</td>\n",
       "      <td>38.077499</td>\n",
       "      <td>39.119999</td>\n",
       "      <td>38.013000</td>\n",
       "      <td>39.022499</td>\n",
       "      <td>39.022499</td>\n",
       "      <td>116602000</td>\n",
       "    </tr>\n",
       "    <tr>\n",
       "      <th>3</th>\n",
       "      <td>2017-01-06</td>\n",
       "      <td>39.118000</td>\n",
       "      <td>39.972000</td>\n",
       "      <td>38.924000</td>\n",
       "      <td>39.799500</td>\n",
       "      <td>39.799500</td>\n",
       "      <td>119724000</td>\n",
       "    </tr>\n",
       "    <tr>\n",
       "      <th>4</th>\n",
       "      <td>2017-01-09</td>\n",
       "      <td>39.900002</td>\n",
       "      <td>40.088501</td>\n",
       "      <td>39.588501</td>\n",
       "      <td>39.846001</td>\n",
       "      <td>39.846001</td>\n",
       "      <td>68922000</td>\n",
       "    </tr>\n",
       "  </tbody>\n",
       "</table>\n",
       "</div>"
      ],
      "text/plain": [
       "         Date       Open       High        Low      Close  Adj Close   \n",
       "0  2017-01-03  37.896000  37.938000  37.384998  37.683498  37.683498  \\\n",
       "1  2017-01-04  37.919498  37.984001  37.709999  37.859001  37.859001   \n",
       "2  2017-01-05  38.077499  39.119999  38.013000  39.022499  39.022499   \n",
       "3  2017-01-06  39.118000  39.972000  38.924000  39.799500  39.799500   \n",
       "4  2017-01-09  39.900002  40.088501  39.588501  39.846001  39.846001   \n",
       "\n",
       "      Volume  \n",
       "0   70422000  \n",
       "1   50210000  \n",
       "2  116602000  \n",
       "3  119724000  \n",
       "4   68922000  "
      ]
     },
     "execution_count": 40,
     "metadata": {},
     "output_type": "execute_result"
    }
   ],
   "source": [
    "df.head()"
   ]
  },
  {
   "cell_type": "code",
   "execution_count": 41,
   "id": "c5bdd7c4",
   "metadata": {},
   "outputs": [
    {
     "ename": "ValueError",
     "evalue": "invalid literal for int() with base 10: '2015-01-01'",
     "output_type": "error",
     "traceback": [
      "\u001b[0;31m---------------------------------------------------------------------------\u001b[0m",
      "\u001b[0;31mValueError\u001b[0m                                Traceback (most recent call last)",
      "Cell \u001b[0;32mIn[41], line 4\u001b[0m\n\u001b[1;32m      2\u001b[0m i \u001b[38;5;241m=\u001b[39m \u001b[38;5;241m0\u001b[39m\n\u001b[1;32m      3\u001b[0m \u001b[38;5;28;01mfor\u001b[39;00m tweet \u001b[38;5;129;01min\u001b[39;00m tweets\u001b[38;5;241m.\u001b[39mpost_date:\n\u001b[0;32m----> 4\u001b[0m     tweets\u001b[38;5;241m.\u001b[39mloc[i, \u001b[38;5;124m'\u001b[39m\u001b[38;5;124mpost_date\u001b[39m\u001b[38;5;124m'\u001b[39m] \u001b[38;5;241m=\u001b[39m datetime\u001b[38;5;241m.\u001b[39mutcfromtimestamp(\u001b[38;5;28;43mint\u001b[39;49m\u001b[43m(\u001b[49m\u001b[43mtweets\u001b[49m\u001b[38;5;241;43m.\u001b[39;49m\u001b[43mloc\u001b[49m\u001b[43m[\u001b[49m\u001b[43mi\u001b[49m\u001b[43m,\u001b[49m\u001b[43m \u001b[49m\u001b[38;5;124;43m'\u001b[39;49m\u001b[38;5;124;43mpost_date\u001b[39;49m\u001b[38;5;124;43m'\u001b[39;49m\u001b[43m]\u001b[49m\u001b[43m)\u001b[49m)\u001b[38;5;241m.\u001b[39mstrftime(\u001b[38;5;124m'\u001b[39m\u001b[38;5;124m%\u001b[39m\u001b[38;5;124mY-\u001b[39m\u001b[38;5;124m%\u001b[39m\u001b[38;5;124mm-\u001b[39m\u001b[38;5;132;01m%d\u001b[39;00m\u001b[38;5;124m'\u001b[39m)\n\u001b[1;32m      5\u001b[0m     i \u001b[38;5;241m=\u001b[39m i\u001b[38;5;241m+\u001b[39m\u001b[38;5;241m1\u001b[39m\n",
      "\u001b[0;31mValueError\u001b[0m: invalid literal for int() with base 10: '2015-01-01'"
     ]
    }
   ],
   "source": [
    "tweets.post_date = tweets.post_date.astype(str)\n",
    "i = 0\n",
    "for tweet in tweets.post_date:\n",
    "    tweets.loc[i, 'post_date'] = datetime.utcfromtimestamp(int(tweets.loc[i, 'post_date'])).strftime('%Y-%m-%d')\n",
    "    i = i+1"
   ]
  },
  {
   "cell_type": "code",
   "execution_count": null,
   "id": "6a08595e",
   "metadata": {},
   "outputs": [],
   "source": [
    "merged_df = pd.merge(tweets, tweetI, how='inner', on='tweet_id')\n",
    "\n",
    "# Save the merged DataFrame to a new CSV file\n",
    "merged_df.to_csv('merged_file.csv', index=False)"
   ]
  },
  {
   "cell_type": "code",
   "execution_count": 42,
   "id": "f10b2607",
   "metadata": {},
   "outputs": [],
   "source": [
    "mergedFile = pd.read_csv(\"merged_file.csv\")"
   ]
  },
  {
   "cell_type": "code",
   "execution_count": 7,
   "id": "209ebf6c",
   "metadata": {},
   "outputs": [
    {
     "name": "stderr",
     "output_type": "stream",
     "text": [
      "/Users/ashutoshsingh/anaconda3/lib/python3.10/site-packages/tqdm/auto.py:22: TqdmWarning: IProgress not found. Please update jupyter and ipywidgets. See https://ipywidgets.readthedocs.io/en/stable/user_install.html\n",
      "  from .autonotebook import tqdm as notebook_tqdm\n"
     ]
    }
   ],
   "source": [
    "from transformers import pipeline\n",
    "sentiment_pipeline = pipeline(\"sentiment-analysis\", model=\"nlptown/bert-base-multilingual-uncased-sentiment\")\n"
   ]
  },
  {
   "cell_type": "code",
   "execution_count": 37,
   "id": "9fd6a89d",
   "metadata": {},
   "outputs": [],
   "source": [
    "from transformers import AutoTokenizer, AutoModelForSequenceClassification\n",
    "\n",
    "tokenizer = AutoTokenizer.from_pretrained(\"ProsusAI/finbert\")\n",
    "\n",
    "model = AutoModelForSequenceClassification.from_pretrained(\"ProsusAI/finbert\")\n",
    "nlp = pipeline(\"sentiment-analysis\", model=model, tokenizer=tokenizer)"
   ]
  },
  {
   "cell_type": "code",
   "execution_count": 43,
   "id": "ecd736c7",
   "metadata": {},
   "outputs": [],
   "source": [
    "def flatten(lst):\n",
    "    \"\"\"\n",
    "    Flattens a 2D list into a 1D list.\n",
    "    \"\"\"\n",
    "    flattened = []\n",
    "    for sublist in lst:\n",
    "        for item in sublist:\n",
    "            flattened.append(item)\n",
    "    return flattened"
   ]
  },
  {
   "cell_type": "code",
   "execution_count": 45,
   "id": "c62d312a",
   "metadata": {},
   "outputs": [],
   "source": [
    "dates = [\"2018-08-30\", \"2018-08-15\",\"2018-07-30\",\"2018-07-15\",\"2018-06-30\",\"2018-06-15\",\"2018-05-30\",\"2018-05-15\",\"2018-04-30\",\"2018-04-15\",\n",
    "\"2017-08-30\", \"2017-08-15\",\"2017-07-30\",\"2017-07-15\",\"2017-06-30\",\"2017-06-15\",\"2017-05-30\",\"2017-05-15\",\"2017-04-30\",\"2017-04-15\"]\n",
    "x_train = []\n",
    "y_train = []\n",
    "for targetDate in dates:\n",
    "    target_date = pd.to_datetime(targetDate)\n",
    "    one_week_before = target_date - timedelta(days=7)\n",
    "    one_week_before = one_week_before.strftime('%Y-%m-%d')\n",
    "    start_value = one_week_before\n",
    "    end_value = targetDate\n",
    "    # Use boolean indexing to select tuples that fall within the specified range\n",
    "    resultPart = mergedFile[(mergedFile['post_date'] >= start_value) & (mergedFile['post_date'] <= end_value)]\n",
    "    resultCompany = resultPart[resultPart['ticker_symbol'] == \"AMZN\"]\n",
    "    resultCompany = resultCompany.sort_values('retweet_num', ascending=False)\n",
    "    resultCompany = resultCompany.head(200)\n",
    "    # tweetsOb = result['body']\n",
    "    tweetsOb = resultCompany['body'].values\n",
    "    retweetsOb = resultCompany['retweet_num'].values\n",
    "    commentOb = resultCompany['comment_num'].values\n",
    "    likeOb = resultCompany['like_num'].values\n",
    "    \n",
    "    daysOb = [(datetime.strptime(targetDate, \"%Y-%m-%d\")-datetime.strptime(date2, \"%Y-%m-%d\")).days for date2 in resultCompany['post_date']]\n",
    "    \n",
    "    sentiResult = nlp(tweetsOb.tolist())\n",
    "    labels = [{\"positive\":0,\"neutral\":0,\"negative\":0} for i in sentiResult]\n",
    "    i =0\n",
    "    for obj in sentiResult:\n",
    "        (labels[i])[obj['label']] = obj['score']\n",
    "        i=i+1\n",
    "    positive = [elem['positive'] for elem in labels]\n",
    "    negative = [elem['negative'] for elem in labels]\n",
    "    neutral = [elem['neutral'] for elem in labels]\n",
    "    \n",
    "    labels = [int(i['label'].split()[0]) for i in sentimentResult]\n",
    "    xComp = [[a,b,c,d,e,f,g] for a,b,c,d,e,f,g in zip(positive, negative, neutral, retweetsOb, commentOb, likeOb, daysOb)]    \n",
    "#     xComp = flatten(xComp)\n",
    "\n",
    "    stockTargetDate = target_date + timedelta(days=1)\n",
    "    six_days_before = stockTargetDate - timedelta(days=6)\n",
    "    six_days_before = six_days_before.strftime('%Y-%m-%d')\n",
    "\n",
    "    start_value = six_days_before\n",
    "    end_value = stockTargetDate.strftime('%Y-%m-%d')\n",
    "\n",
    "    # Use boolean indexing to select tuples that fall within the specified range\n",
    "    st = df[(df['Date'] >= start_value) & (df['Date'] <= end_value)]\n",
    "    diff = st.Close.tolist()[-1] - st.Open.tolist()[0]\n",
    "    delta = diff / st.Open.tolist()[0]\n",
    "    delta\n",
    "    for elem in xComp:\n",
    "        x_train.append(elem)\n",
    "        y_train.append(delta)"
   ]
  },
  {
   "cell_type": "code",
   "execution_count": 46,
   "id": "d7fdb884",
   "metadata": {
    "scrolled": true
   },
   "outputs": [
    {
     "data": {
      "text/plain": [
       "(4000, 7)"
      ]
     },
     "execution_count": 46,
     "metadata": {},
     "output_type": "execute_result"
    }
   ],
   "source": [
    "np.array(x_train).shape"
   ]
  },
  {
   "cell_type": "code",
   "execution_count": 48,
   "id": "d712fac6",
   "metadata": {},
   "outputs": [
    {
     "data": {
      "text/plain": [
       "array([0.05102348, 0.05102348, 0.05102348, 0.05102348, 0.05102348])"
      ]
     },
     "execution_count": 48,
     "metadata": {},
     "output_type": "execute_result"
    }
   ],
   "source": [
    "np.array(y_train)[:5]"
   ]
  },
  {
   "cell_type": "code",
   "execution_count": 49,
   "id": "f83b33d2",
   "metadata": {},
   "outputs": [],
   "source": [
    "y_train = np.array(y_train)"
   ]
  },
  {
   "cell_type": "code",
   "execution_count": 51,
   "id": "f74db565",
   "metadata": {},
   "outputs": [],
   "source": [
    "y_train = y_train/6"
   ]
  },
  {
   "cell_type": "code",
   "execution_count": 53,
   "id": "4175c9a8",
   "metadata": {},
   "outputs": [],
   "source": [
    "x_train = np.array(x_train)\n",
    "\n",
    "xDf = pd.DataFrame(x_train, columns=['A', 'B', 'C','D','E','F','G'])\n",
    "yDf = pd.DataFrame(y_train.tolist(), columns=['values'])\n",
    "\n",
    "# Export the DataFrame to a CSV file\n",
    "xDf.to_csv('outputxNew.csv', index=False)\n",
    "yDf.to_csv('outputyNew.csv', index=False)"
   ]
  },
  {
   "cell_type": "code",
   "execution_count": 55,
   "id": "bf4abc54",
   "metadata": {},
   "outputs": [
    {
     "data": {
      "text/html": [
       "<div>\n",
       "<style scoped>\n",
       "    .dataframe tbody tr th:only-of-type {\n",
       "        vertical-align: middle;\n",
       "    }\n",
       "\n",
       "    .dataframe tbody tr th {\n",
       "        vertical-align: top;\n",
       "    }\n",
       "\n",
       "    .dataframe thead th {\n",
       "        text-align: right;\n",
       "    }\n",
       "</style>\n",
       "<table border=\"1\" class=\"dataframe\">\n",
       "  <thead>\n",
       "    <tr style=\"text-align: right;\">\n",
       "      <th></th>\n",
       "      <th>A</th>\n",
       "      <th>B</th>\n",
       "      <th>C</th>\n",
       "      <th>D</th>\n",
       "      <th>E</th>\n",
       "      <th>F</th>\n",
       "      <th>G</th>\n",
       "    </tr>\n",
       "  </thead>\n",
       "  <tbody>\n",
       "    <tr>\n",
       "      <th>0</th>\n",
       "      <td>0.000000</td>\n",
       "      <td>0.0</td>\n",
       "      <td>0.920105</td>\n",
       "      <td>88.0</td>\n",
       "      <td>4.0</td>\n",
       "      <td>125.0</td>\n",
       "      <td>1.0</td>\n",
       "    </tr>\n",
       "    <tr>\n",
       "      <th>1</th>\n",
       "      <td>0.539348</td>\n",
       "      <td>0.0</td>\n",
       "      <td>0.000000</td>\n",
       "      <td>77.0</td>\n",
       "      <td>7.0</td>\n",
       "      <td>321.0</td>\n",
       "      <td>2.0</td>\n",
       "    </tr>\n",
       "    <tr>\n",
       "      <th>2</th>\n",
       "      <td>0.000000</td>\n",
       "      <td>0.0</td>\n",
       "      <td>0.903385</td>\n",
       "      <td>59.0</td>\n",
       "      <td>8.0</td>\n",
       "      <td>147.0</td>\n",
       "      <td>1.0</td>\n",
       "    </tr>\n",
       "    <tr>\n",
       "      <th>3</th>\n",
       "      <td>0.000000</td>\n",
       "      <td>0.0</td>\n",
       "      <td>0.904519</td>\n",
       "      <td>57.0</td>\n",
       "      <td>27.0</td>\n",
       "      <td>71.0</td>\n",
       "      <td>1.0</td>\n",
       "    </tr>\n",
       "    <tr>\n",
       "      <th>4</th>\n",
       "      <td>0.000000</td>\n",
       "      <td>0.0</td>\n",
       "      <td>0.744008</td>\n",
       "      <td>55.0</td>\n",
       "      <td>17.0</td>\n",
       "      <td>73.0</td>\n",
       "      <td>1.0</td>\n",
       "    </tr>\n",
       "    <tr>\n",
       "      <th>...</th>\n",
       "      <td>...</td>\n",
       "      <td>...</td>\n",
       "      <td>...</td>\n",
       "      <td>...</td>\n",
       "      <td>...</td>\n",
       "      <td>...</td>\n",
       "      <td>...</td>\n",
       "    </tr>\n",
       "    <tr>\n",
       "      <th>3995</th>\n",
       "      <td>0.000000</td>\n",
       "      <td>0.0</td>\n",
       "      <td>0.902423</td>\n",
       "      <td>2.0</td>\n",
       "      <td>1.0</td>\n",
       "      <td>6.0</td>\n",
       "      <td>3.0</td>\n",
       "    </tr>\n",
       "    <tr>\n",
       "      <th>3996</th>\n",
       "      <td>0.000000</td>\n",
       "      <td>0.0</td>\n",
       "      <td>0.939989</td>\n",
       "      <td>2.0</td>\n",
       "      <td>0.0</td>\n",
       "      <td>0.0</td>\n",
       "      <td>1.0</td>\n",
       "    </tr>\n",
       "    <tr>\n",
       "      <th>3997</th>\n",
       "      <td>0.000000</td>\n",
       "      <td>0.0</td>\n",
       "      <td>0.551905</td>\n",
       "      <td>2.0</td>\n",
       "      <td>1.0</td>\n",
       "      <td>4.0</td>\n",
       "      <td>6.0</td>\n",
       "    </tr>\n",
       "    <tr>\n",
       "      <th>3998</th>\n",
       "      <td>0.000000</td>\n",
       "      <td>0.0</td>\n",
       "      <td>0.923244</td>\n",
       "      <td>2.0</td>\n",
       "      <td>0.0</td>\n",
       "      <td>7.0</td>\n",
       "      <td>7.0</td>\n",
       "    </tr>\n",
       "    <tr>\n",
       "      <th>3999</th>\n",
       "      <td>0.000000</td>\n",
       "      <td>0.0</td>\n",
       "      <td>0.943658</td>\n",
       "      <td>2.0</td>\n",
       "      <td>2.0</td>\n",
       "      <td>4.0</td>\n",
       "      <td>3.0</td>\n",
       "    </tr>\n",
       "  </tbody>\n",
       "</table>\n",
       "<p>4000 rows × 7 columns</p>\n",
       "</div>"
      ],
      "text/plain": [
       "             A    B         C     D     E      F    G\n",
       "0     0.000000  0.0  0.920105  88.0   4.0  125.0  1.0\n",
       "1     0.539348  0.0  0.000000  77.0   7.0  321.0  2.0\n",
       "2     0.000000  0.0  0.903385  59.0   8.0  147.0  1.0\n",
       "3     0.000000  0.0  0.904519  57.0  27.0   71.0  1.0\n",
       "4     0.000000  0.0  0.744008  55.0  17.0   73.0  1.0\n",
       "...        ...  ...       ...   ...   ...    ...  ...\n",
       "3995  0.000000  0.0  0.902423   2.0   1.0    6.0  3.0\n",
       "3996  0.000000  0.0  0.939989   2.0   0.0    0.0  1.0\n",
       "3997  0.000000  0.0  0.551905   2.0   1.0    4.0  6.0\n",
       "3998  0.000000  0.0  0.923244   2.0   0.0    7.0  7.0\n",
       "3999  0.000000  0.0  0.943658   2.0   2.0    4.0  3.0\n",
       "\n",
       "[4000 rows x 7 columns]"
      ]
     },
     "execution_count": 55,
     "metadata": {},
     "output_type": "execute_result"
    }
   ],
   "source": [
    "xDf"
   ]
  },
  {
   "cell_type": "code",
   "execution_count": 33,
   "id": "c13cb92f",
   "metadata": {},
   "outputs": [
    {
     "name": "stdout",
     "output_type": "stream",
     "text": [
      "   Values\n",
      "0       1\n",
      "1       2\n",
      "2       3\n",
      "3       4\n",
      "4       5\n"
     ]
    }
   ],
   "source": [
    "my_array = [1, 2, 3, 4, 5]\n",
    "\n",
    "# Convert array to dataframe\n",
    "newdf = pd.DataFrame(my_array, columns=['Values'])\n",
    "\n",
    "# Display dataframe\n",
    "print(newdf)"
   ]
  },
  {
   "cell_type": "code",
   "execution_count": null,
   "id": "5532ca33",
   "metadata": {},
   "outputs": [],
   "source": [
    "import numpy as np\n",
    "import keras\n",
    "from keras.models import Sequential\n",
    "from keras.layers import LSTM, Dense\n",
    "\n",
    "# Define your LSTM model\n",
    "model = Sequential()\n",
    "model.add(LSTM(64, input_shape=(7, 1)))  # 7 features, 1 time step\n",
    "model.add(Dense(1))  # Output layer with single node for regression\n",
    "\n",
    "# Compile the model\n",
    "model.compile(optimizer='adam', loss='mean_squared_error')\n",
    "\n",
    "# Prepare your data\n",
    "x_train\n",
    "y_train\n",
    "# Reshape x_train to have 3D shape (samples, time steps, features)\n",
    "x_train = np.reshape(x_train, (x_train.shape[0], x_train.shape[1], 1))\n",
    "\n",
    "# Train the LSTM model\n",
    "model.fit(x_train, y_train, epochs=100, batch_size=1)\n",
    "\n",
    "# Once the model is trained, you can use it to make predictions on new data\n",
    "# Prepare your new data for prediction (assuming x_test is your new data)\n",
    "x_test = np.array([[0.0, 0.0, 0.8157535195350647, 27.0, 7.0, 82.0, 1.0],\n",
    "                   [0.0, 0.0, 0.9311531782150269, 26.0, 0.0, 26.0, 4.0],\n",
    "                   [0.0, 0.0, 0.9164313077926636, 24.0, 0.0, 25.0, 6.0],\n",
    "                   [0.0, 0.0, 0.8958992958068848, 23.0, 0.0, 28.0, 6.0],\n",
    "                   [0.0, 0.0, 0.8829037547111511, 22.0, 3.0, 115.0, 4.0]])\n",
    "x_test = np.reshape(x_test, (x_test.shape[0], x_test.shape[1], 1))\n",
    "y_pred = model.predict(x_test)\n",
    "\n"
   ]
  }
 ],
 "metadata": {
  "kernelspec": {
   "display_name": "Python 3 (ipykernel)",
   "language": "python",
   "name": "python3"
  },
  "language_info": {
   "codemirror_mode": {
    "name": "ipython",
    "version": 3
   },
   "file_extension": ".py",
   "mimetype": "text/x-python",
   "name": "python",
   "nbconvert_exporter": "python",
   "pygments_lexer": "ipython3",
   "version": "3.10.9"
  }
 },
 "nbformat": 4,
 "nbformat_minor": 5
}
